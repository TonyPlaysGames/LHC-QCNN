{
 "cells": [
  {
   "cell_type": "code",
   "execution_count": 2,
   "id": "cc1ed7dc-cd23-4186-acd9-edc512c9961d",
   "metadata": {},
   "outputs": [],
   "source": [
    "import numpy as np\n",
    "\n",
    "import qiskit\n",
    "from qiskit import QuantumCircuit\n",
    "from qiskit.primitives import Sampler"
   ]
  },
  {
   "cell_type": "code",
   "execution_count": 3,
   "id": "6cf28f9c-39b1-48f9-bdb5-365c291cba09",
   "metadata": {},
   "outputs": [],
   "source": [
    "qc = QuantumCircuit(2)\n",
    "qc.h(0)\n",
    "qc.cx(0, 1)\n",
    "\n",
    "qc.measure_all()"
   ]
  },
  {
   "cell_type": "code",
   "execution_count": 4,
   "id": "c0c1b210-4848-4e53-9afe-bade8d7bec45",
   "metadata": {},
   "outputs": [
    {
     "data": {
      "text/html": [
       "<pre style=\"word-wrap: normal;white-space: pre;background: #fff0;line-height: 1.1;font-family: &quot;Courier New&quot;,Courier,monospace\">        ┌───┐      ░ ┌─┐   \n",
       "   q_0: ┤ H ├──■───░─┤M├───\n",
       "        └───┘┌─┴─┐ ░ └╥┘┌─┐\n",
       "   q_1: ─────┤ X ├─░──╫─┤M├\n",
       "             └───┘ ░  ║ └╥┘\n",
       "meas: 2/══════════════╩══╩═\n",
       "                      0  1 </pre>"
      ],
      "text/plain": [
       "        ┌───┐      ░ ┌─┐   \n",
       "   q_0: ┤ H ├──■───░─┤M├───\n",
       "        └───┘┌─┴─┐ ░ └╥┘┌─┐\n",
       "   q_1: ─────┤ X ├─░──╫─┤M├\n",
       "             └───┘ ░  ║ └╥┘\n",
       "meas: 2/══════════════╩══╩═\n",
       "                      0  1 "
      ]
     },
     "execution_count": 4,
     "metadata": {},
     "output_type": "execute_result"
    }
   ],
   "source": [
    "qc.draw()"
   ]
  },
  {
   "cell_type": "code",
   "execution_count": 5,
   "id": "9bfd4add-edd2-41c3-a7d9-c8d04bea72de",
   "metadata": {},
   "outputs": [],
   "source": [
    "sampler = Sampler()"
   ]
  },
  {
   "cell_type": "code",
   "execution_count": 7,
   "id": "7c9c9ed3-ccdb-4abb-8506-339bbb531d0b",
   "metadata": {},
   "outputs": [],
   "source": [
    "job = sampler.run(qc, shots=1024)"
   ]
  },
  {
   "cell_type": "code",
   "execution_count": 8,
   "id": "90126aea-6c42-47b3-8abf-30079d9ef69b",
   "metadata": {},
   "outputs": [
    {
     "data": {
      "text/plain": [
       "SamplerResult(quasi_dists=[{0: 0.5029296875, 3: 0.4970703125}], metadata=[{'shots': 1024}])"
      ]
     },
     "execution_count": 8,
     "metadata": {},
     "output_type": "execute_result"
    }
   ],
   "source": [
    "job.result()"
   ]
  },
  {
   "cell_type": "code",
   "execution_count": 9,
   "id": "cc241009-d2a0-40ae-b372-c88b208dc7e3",
   "metadata": {},
   "outputs": [
    {
     "data": {
      "text/plain": [
       "SamplerResult(quasi_dists=[{0: 0.470703125, 1: 0.529296875}], metadata=[{'shots': 1024}])"
      ]
     },
     "execution_count": 9,
     "metadata": {},
     "output_type": "execute_result"
    }
   ],
   "source": [
    "qc = QuantumCircuit(2)\n",
    "qc.h(0)\n",
    "# qc.cx(0, 1)\n",
    "\n",
    "qc.measure_all()\n",
    "sampler.run(qc, shots=1024).result()"
   ]
  },
  {
   "cell_type": "code",
   "execution_count": 20,
   "id": "07d731b3-bcb3-421c-8f4e-229b6ddb9b0d",
   "metadata": {},
   "outputs": [
    {
     "data": {
      "text/plain": [
       "SamplerResult(quasi_dists=[{0: 0.517578125, 2: 0.482421875}], metadata=[{'shots': 1024}])"
      ]
     },
     "execution_count": 20,
     "metadata": {},
     "output_type": "execute_result"
    }
   ],
   "source": [
    "qc = QuantumCircuit(2)\n",
    "qc.h(1)\n",
    "# qc.cx(0, 1)\n",
    "\n",
    "qc.measure_all()\n",
    "sampler.run(qc, shots=1024).result()"
   ]
  },
  {
   "cell_type": "code",
   "execution_count": 13,
   "id": "2be1c1e3-6a7f-4ae5-8c00-fa7ee046653c",
   "metadata": {},
   "outputs": [],
   "source": [
    "# qc = QuantumCircuit(2)\n",
    "# qc.h(1)\n",
    "# # qc.cx(0, 1)\n",
    "\n",
    "# qc.measure(0, 0)\n",
    "# sampler.run(qc, shots=1024).result()"
   ]
  },
  {
   "cell_type": "code",
   "execution_count": 16,
   "id": "a29e773d-e560-4d88-8fd1-b0d6c815b5ec",
   "metadata": {},
   "outputs": [],
   "source": [
    "def signal(output, n=2):\n",
    "    a = output % (2**n)\n",
    "    if a == 1 or a == 2:\n",
    "        return True\n",
    "    return False"
   ]
  },
  {
   "cell_type": "code",
   "execution_count": 15,
   "id": "84f103b2-14e1-42bb-af5b-b455fcb33ceb",
   "metadata": {},
   "outputs": [
    {
     "data": {
      "text/plain": [
       "int"
      ]
     },
     "execution_count": 15,
     "metadata": {},
     "output_type": "execute_result"
    }
   ],
   "source": [
    "type(2**3)"
   ]
  },
  {
   "cell_type": "code",
   "execution_count": 17,
   "id": "8a1c0ceb-42b9-4151-974f-43c0e16452c3",
   "metadata": {},
   "outputs": [
    {
     "data": {
      "text/plain": [
       "True"
      ]
     },
     "execution_count": 17,
     "metadata": {},
     "output_type": "execute_result"
    }
   ],
   "source": [
    "signal(2)"
   ]
  },
  {
   "cell_type": "code",
   "execution_count": 18,
   "id": "93f6c0da-abc1-4708-982c-dfc09a62d530",
   "metadata": {},
   "outputs": [
    {
     "data": {
      "text/plain": [
       "False"
      ]
     },
     "execution_count": 18,
     "metadata": {},
     "output_type": "execute_result"
    }
   ],
   "source": [
    "signal(0)"
   ]
  },
  {
   "cell_type": "code",
   "execution_count": 21,
   "id": "e67f7178-9e82-48fa-a05b-447ec60cf479",
   "metadata": {},
   "outputs": [],
   "source": [
    "result = sampler.run(qc, shots=1024).result()"
   ]
  },
  {
   "cell_type": "code",
   "execution_count": 22,
   "id": "c31a3d30-0ea9-40c3-b581-e426ab4b6788",
   "metadata": {},
   "outputs": [
    {
     "data": {
      "text/plain": [
       "SamplerResult(quasi_dists=[{0: 0.4892578125, 2: 0.5107421875}], metadata=[{'shots': 1024}])"
      ]
     },
     "execution_count": 22,
     "metadata": {},
     "output_type": "execute_result"
    }
   ],
   "source": [
    "result"
   ]
  },
  {
   "cell_type": "code",
   "execution_count": 24,
   "id": "ab7e819c-6efa-4801-ac3f-9b885fbcc68f",
   "metadata": {},
   "outputs": [
    {
     "data": {
      "text/plain": [
       "{0: 0.4892578125, 2: 0.5107421875}"
      ]
     },
     "execution_count": 24,
     "metadata": {},
     "output_type": "execute_result"
    }
   ],
   "source": [
    "result.quasi_dists[0]"
   ]
  },
  {
   "cell_type": "code",
   "execution_count": 25,
   "id": "d55d5803-c21f-4e1e-9f9c-4a6d83bbb2b6",
   "metadata": {},
   "outputs": [
    {
     "data": {
      "text/plain": [
       "qiskit.result.distributions.quasi.QuasiDistribution"
      ]
     },
     "execution_count": 25,
     "metadata": {},
     "output_type": "execute_result"
    }
   ],
   "source": [
    "type(result.quasi_dists[0])"
   ]
  },
  {
   "cell_type": "code",
   "execution_count": 26,
   "id": "ab809e06-2424-4b4e-b173-a836cfb93524",
   "metadata": {},
   "outputs": [
    {
     "data": {
      "text/plain": [
       "dict_keys([0, 2])"
      ]
     },
     "execution_count": 26,
     "metadata": {},
     "output_type": "execute_result"
    }
   ],
   "source": [
    "result.quasi_dists[0].keys()"
   ]
  },
  {
   "cell_type": "code",
   "execution_count": 27,
   "id": "e5b2a811-3f15-43d6-93cb-f46b3a11b957",
   "metadata": {},
   "outputs": [
    {
     "name": "stdout",
     "output_type": "stream",
     "text": [
      "0.4892578125\n",
      "0.5107421875\n"
     ]
    }
   ],
   "source": [
    "for k in result.quasi_dists[0].keys():\n",
    "    print(result.quasi_dists[0][k])"
   ]
  },
  {
   "cell_type": "code",
   "execution_count": null,
   "id": "7ccf3195-071b-4769-b713-24bdcea6b53d",
   "metadata": {},
   "outputs": [],
   "source": []
  }
 ],
 "metadata": {
  "kernelspec": {
   "display_name": "Python 3 (ipykernel)",
   "language": "python",
   "name": "python3"
  },
  "language_info": {
   "codemirror_mode": {
    "name": "ipython",
    "version": 3
   },
   "file_extension": ".py",
   "mimetype": "text/x-python",
   "name": "python",
   "nbconvert_exporter": "python",
   "pygments_lexer": "ipython3",
   "version": "3.11.7"
  }
 },
 "nbformat": 4,
 "nbformat_minor": 5
}
