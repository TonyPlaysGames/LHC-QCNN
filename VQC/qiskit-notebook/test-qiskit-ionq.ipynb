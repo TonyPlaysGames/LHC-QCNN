{
 "cells": [
  {
   "cell_type": "code",
   "execution_count": 1,
   "id": "2b9fad49-1eb4-42de-a704-df4e18a3cf38",
   "metadata": {},
   "outputs": [],
   "source": [
    "from qiskit_ionq import IonQProvider\n",
    "provider = IonQProvider()"
   ]
  },
  {
   "cell_type": "code",
   "execution_count": 2,
   "id": "8606071a-2ffd-461a-bca9-b519ed587152",
   "metadata": {},
   "outputs": [
    {
     "name": "stdout",
     "output_type": "stream",
     "text": [
      "[<IonQSimulatorBackend('ionq_simulator')>, <IonQQPUBackend('ionq_qpu')>]\n"
     ]
    }
   ],
   "source": [
    "# Show all backends:\n",
    "print(provider.backends())"
   ]
  },
  {
   "cell_type": "code",
   "execution_count": 3,
   "id": "ad126a8f-b9e4-49fb-b52e-193538602188",
   "metadata": {},
   "outputs": [],
   "source": [
    "# Get IonQ's simulator backend:\n",
    "simulator_backend = provider.get_backend(\"ionq_simulator\")"
   ]
  },
  {
   "cell_type": "code",
   "execution_count": 4,
   "id": "a2c19a16-fd49-4bd6-a826-9b2377e22b82",
   "metadata": {},
   "outputs": [
    {
     "name": "stdout",
     "output_type": "stream",
     "text": [
      "{'00': 501, '11': 499}\n"
     ]
    }
   ],
   "source": [
    "from qiskit import QuantumCircuit\n",
    "\n",
    "# Create a basic Bell State circuit:\n",
    "qc = QuantumCircuit(2, 2)\n",
    "qc.h(0)\n",
    "qc.cx(0, 1)\n",
    "qc.measure([0, 1], [0, 1])\n",
    "\n",
    "# Run the circuit on IonQ's platform:\n",
    "job = simulator_backend.run(qc, shots=1000) \n",
    "\n",
    "# Print the counts\n",
    "print(job.get_counts())"
   ]
  },
  {
   "cell_type": "code",
   "execution_count": null,
   "id": "5e701b77-eec9-4bcd-95d7-e367821af569",
   "metadata": {},
   "outputs": [],
   "source": []
  }
 ],
 "metadata": {
  "kernelspec": {
   "display_name": "Python 3 (ipykernel)",
   "language": "python",
   "name": "python3"
  },
  "language_info": {
   "codemirror_mode": {
    "name": "ipython",
    "version": 3
   },
   "file_extension": ".py",
   "mimetype": "text/x-python",
   "name": "python",
   "nbconvert_exporter": "python",
   "pygments_lexer": "ipython3",
   "version": "3.11.7"
  }
 },
 "nbformat": 4,
 "nbformat_minor": 5
}
