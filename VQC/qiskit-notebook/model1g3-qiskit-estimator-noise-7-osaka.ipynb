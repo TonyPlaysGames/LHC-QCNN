{
 "cells": [
  {
   "cell_type": "code",
   "execution_count": 1,
   "id": "ae6899f1-0e9c-4740-ba94-2e8ccb08a4dd",
   "metadata": {},
   "outputs": [],
   "source": [
    "import numpy as np\n",
    "\n",
    "import qiskit\n",
    "from qiskit import QuantumCircuit\n",
    "from qiskit_aer.primitives import Sampler, Estimator\n",
    "# from qiskit.primitives import Estimator\n",
    "from qiskit.circuit import ParameterVector\n",
    "from qiskit.quantum_info import SparsePauliOp\n",
    "from qiskit import  Aer\n",
    "from qiskit_aer.noise import NoiseModel\n",
    "from qiskit_ibm_provider import IBMProvider\n",
    "\n",
    "from sklearn.model_selection import train_test_split\n",
    "import time\n",
    "from matplotlib import pyplot as plt\n",
    "from sklearn.metrics import confusion_matrix\n",
    "from sklearn.metrics import ConfusionMatrixDisplay\n",
    "\n",
    "import os\n",
    "\n",
    "\n",
    "import LHC_QML_module as lqm"
   ]
  },
  {
   "cell_type": "code",
   "execution_count": 2,
   "id": "81f8b458-3b64-49f4-a2ac-9ac3db9b4844",
   "metadata": {},
   "outputs": [],
   "source": [
    "# settings to tune\n",
    "\n",
    "seed = 123\n",
    "# Features to train on\n",
    "training_feature_keys = [\n",
    "    \"f_mass4l\",\n",
    "    # \"f_eta4l\",\n",
    "    \"f_Z2mass\",\n",
    "    \"f_Z1mass\",\n",
    "]\n",
    "\n",
    "save_folder = os.path.join(\"saved\", \"model1g3-qiskit-estimator-noise-7-osaka\")\n",
    "\n",
    "batch_size = 2\n",
    "n_epochs = 1\n",
    "\n",
    "train_data_size = 80\n",
    "test_data_size = 80\n",
    "valid_data_size = 40\n",
    "total_datasize = train_data_size + test_data_size + valid_data_size\n",
    "half_datasize = total_datasize // 2 # 80 signal and 80 backgrounds\n",
    "# opt = NesterovMomentumOptimizer(0.1)\n",
    "# opt = SPSAOptimizer(maxiter=200)\n",
    "\n",
    "is_local_simulator = True\n",
    "\n",
    "spsa_alpha = 0.7\n",
    "spsa_gamma = 0.101\n",
    "spsa_c     = 0.2\n",
    "spsa_A     = 2.\n",
    "spsa_a1    = 0.2\n",
    "spsa_a     = spsa_a1 * (spsa_A + 1) ** spsa_alpha"
   ]
  },
  {
   "cell_type": "code",
   "execution_count": 3,
   "id": "e12e08af-23ea-425b-9c3a-9215e868f7ff",
   "metadata": {},
   "outputs": [
    {
     "name": "stdout",
     "output_type": "stream",
     "text": [
      "This notebook may overwrite previous results in the saved/model1g3-qiskit-estimator-noise-7-osaka directory\n"
     ]
    }
   ],
   "source": [
    "np.random.seed(seed)\n",
    "\n",
    "if os.path.exists(save_folder):\n",
    "    print(f\"This notebook may overwrite previous results in the {save_folder} directory\")\n",
    "else:\n",
    "    os.makedirs(save_folder)"
   ]
  },
  {
   "cell_type": "code",
   "execution_count": 4,
   "id": "6a7add6d-ee25-4a8d-b972-48f2f4b8e186",
   "metadata": {},
   "outputs": [],
   "source": [
    "n_qubits = 3\n",
    "num_layers = 5\n",
    "\n",
    "# weights_init = 0.5 * np.random.randn(num_layers, n_qubits, requires_grad=True)\n",
    "weights_init = 0.5 * np.random.randn(num_layers , n_qubits)\n",
    "weights_init = weights_init.flatten()"
   ]
  },
  {
   "cell_type": "code",
   "execution_count": 5,
   "id": "9ed5b677-f87f-4bdd-9419-1e8a1da38531",
   "metadata": {},
   "outputs": [],
   "source": [
    "provider = IBMProvider()\n",
    "backend = provider.get_backend('ibm_osaka')\n",
    "noise_model = NoiseModel.from_backend(backend)\n",
    "\n"
   ]
  },
  {
   "cell_type": "code",
   "execution_count": 6,
   "id": "2e273608-93d3-455d-b1da-63aeb4433776",
   "metadata": {},
   "outputs": [],
   "source": [
    "qc_template = QuantumCircuit(n_qubits)\n",
    "\n",
    "par_inputs = ParameterVector(\"input\", n_qubits)\n",
    "par_weights = ParameterVector(\"weights\", num_layers * n_qubits)\n",
    "\n",
    "for i in range(n_qubits):\n",
    "    qc_template.rx(par_inputs[i], i)\n",
    "\n",
    "for i in range(n_qubits):\n",
    "    qc_template.ry(par_weights[i], i)\n",
    "\n",
    "for i in range(n_qubits):\n",
    "    qc_template.cx(i, (i+1)%n_qubits)\n",
    "\n",
    "for i in range(n_qubits):\n",
    "    qc_template.rz(par_weights[i+3], i)\n",
    "\n",
    "for i in range(n_qubits):\n",
    "    qc_template.cx(i, (i+1)%n_qubits)\n",
    "\n",
    "for i in range(n_qubits):\n",
    "    qc_template.ry(par_weights[i+6], i)\n",
    "\n",
    "for i in range(n_qubits):\n",
    "    qc_template.cx(i, (i+1)%n_qubits)\n",
    "\n",
    "for i in range(n_qubits):\n",
    "    qc_template.rz(par_weights[i+9], i)\n",
    "\n",
    "for i in range(n_qubits):\n",
    "    qc_template.cx(i, (i+1)%n_qubits)\n",
    "\n",
    "for i in range(n_qubits):\n",
    "    qc_template.rz(par_weights[i+12], i)\n",
    "\n",
    "for i in range(n_qubits):\n",
    "    qc_template.cx(i, (i+1)%n_qubits)\n",
    "\n",
    "\n",
    "# qc_template.measure_all()\n",
    "obs = SparsePauliOp(\"XXI\")"
   ]
  },
  {
   "cell_type": "code",
   "execution_count": 7,
   "id": "fa46dfd0-efdd-43c1-be84-4ded79a2636d",
   "metadata": {},
   "outputs": [
    {
     "data": {
      "text/html": [
       "<pre style=\"word-wrap: normal;white-space: pre;background: #fff0;line-height: 1.1;font-family: &quot;Courier New&quot;,Courier,monospace\">     ┌──────────────┐┌────────────────┐          ┌───┐┌────────────────┐     »\n",
       "q_0: ┤ Rx(input[0]) ├┤ Ry(weights[0]) ├──■───────┤ X ├┤ Rz(weights[3]) ├──■──»\n",
       "     ├──────────────┤├────────────────┤┌─┴─┐     └─┬─┘├────────────────┤┌─┴─┐»\n",
       "q_1: ┤ Rx(input[1]) ├┤ Ry(weights[1]) ├┤ X ├──■────┼──┤ Rz(weights[4]) ├┤ X ├»\n",
       "     ├──────────────┤├────────────────┤└───┘┌─┴─┐  │  ├────────────────┤└───┘»\n",
       "q_2: ┤ Rx(input[2]) ├┤ Ry(weights[2]) ├─────┤ X ├──■──┤ Rz(weights[5]) ├─────»\n",
       "     └──────────────┘└────────────────┘     └───┘     └────────────────┘     »\n",
       "«          ┌───┐┌────────────────┐          ┌───┐ ┌────────────────┐          »\n",
       "«q_0: ─────┤ X ├┤ Ry(weights[6]) ├──■───────┤ X ├─┤ Rz(weights[9]) ├──■───────»\n",
       "«          └─┬─┘├────────────────┤┌─┴─┐     └─┬─┘┌┴────────────────┤┌─┴─┐     »\n",
       "«q_1: ──■────┼──┤ Ry(weights[7]) ├┤ X ├──■────┼──┤ Rz(weights[10]) ├┤ X ├──■──»\n",
       "«     ┌─┴─┐  │  ├────────────────┤└───┘┌─┴─┐  │  ├─────────────────┤└───┘┌─┴─┐»\n",
       "«q_2: ┤ X ├──■──┤ Ry(weights[8]) ├─────┤ X ├──■──┤ Rz(weights[11]) ├─────┤ X ├»\n",
       "«     └───┘     └────────────────┘     └───┘     └─────────────────┘     └───┘»\n",
       "«     ┌───┐┌─────────────────┐          ┌───┐\n",
       "«q_0: ┤ X ├┤ Rz(weights[12]) ├──■───────┤ X ├\n",
       "«     └─┬─┘├─────────────────┤┌─┴─┐     └─┬─┘\n",
       "«q_1: ──┼──┤ Rz(weights[13]) ├┤ X ├──■────┼──\n",
       "«       │  ├─────────────────┤└───┘┌─┴─┐  │  \n",
       "«q_2: ──■──┤ Rz(weights[14]) ├─────┤ X ├──■──\n",
       "«          └─────────────────┘     └───┘     </pre>"
      ],
      "text/plain": [
       "     ┌──────────────┐┌────────────────┐          ┌───┐┌────────────────┐     »\n",
       "q_0: ┤ Rx(input[0]) ├┤ Ry(weights[0]) ├──■───────┤ X ├┤ Rz(weights[3]) ├──■──»\n",
       "     ├──────────────┤├────────────────┤┌─┴─┐     └─┬─┘├────────────────┤┌─┴─┐»\n",
       "q_1: ┤ Rx(input[1]) ├┤ Ry(weights[1]) ├┤ X ├──■────┼──┤ Rz(weights[4]) ├┤ X ├»\n",
       "     ├──────────────┤├────────────────┤└───┘┌─┴─┐  │  ├────────────────┤└───┘»\n",
       "q_2: ┤ Rx(input[2]) ├┤ Ry(weights[2]) ├─────┤ X ├──■──┤ Rz(weights[5]) ├─────»\n",
       "     └──────────────┘└────────────────┘     └───┘     └────────────────┘     »\n",
       "«          ┌───┐┌────────────────┐          ┌───┐ ┌────────────────┐          »\n",
       "«q_0: ─────┤ X ├┤ Ry(weights[6]) ├──■───────┤ X ├─┤ Rz(weights[9]) ├──■───────»\n",
       "«          └─┬─┘├────────────────┤┌─┴─┐     └─┬─┘┌┴────────────────┤┌─┴─┐     »\n",
       "«q_1: ──■────┼──┤ Ry(weights[7]) ├┤ X ├──■────┼──┤ Rz(weights[10]) ├┤ X ├──■──»\n",
       "«     ┌─┴─┐  │  ├────────────────┤└───┘┌─┴─┐  │  ├─────────────────┤└───┘┌─┴─┐»\n",
       "«q_2: ┤ X ├──■──┤ Ry(weights[8]) ├─────┤ X ├──■──┤ Rz(weights[11]) ├─────┤ X ├»\n",
       "«     └───┘     └────────────────┘     └───┘     └─────────────────┘     └───┘»\n",
       "«     ┌───┐┌─────────────────┐          ┌───┐\n",
       "«q_0: ┤ X ├┤ Rz(weights[12]) ├──■───────┤ X ├\n",
       "«     └─┬─┘├─────────────────┤┌─┴─┐     └─┬─┘\n",
       "«q_1: ──┼──┤ Rz(weights[13]) ├┤ X ├──■────┼──\n",
       "«       │  ├─────────────────┤└───┘┌─┴─┐  │  \n",
       "«q_2: ──■──┤ Rz(weights[14]) ├─────┤ X ├──■──\n",
       "«          └─────────────────┘     └───┘     "
      ]
     },
     "execution_count": 7,
     "metadata": {},
     "output_type": "execute_result"
    }
   ],
   "source": [
    "qc_template.draw()"
   ]
  },
  {
   "cell_type": "code",
   "execution_count": 8,
   "id": "a5053c1c-1f70-4c1f-b843-6ba7e5ab0652",
   "metadata": {},
   "outputs": [],
   "source": [
    "def loss(prob, label):\n",
    "    # print(prob)\n",
    "    return -np.mean(label*np.log(prob+1e-5)+(1-label)*np.log(1-prob+1e-5))\n",
    "\n",
    "def accuracy(pred, label):\n",
    "    return np.mean(np.isclose(pred,label))\n",
    "\n",
    "def cost(weights, features, labels):\n",
    "    probs = np.array([model(weights, f) for f in features])\n",
    "    return loss(probs, labels)"
   ]
  },
  {
   "cell_type": "code",
   "execution_count": 9,
   "id": "b181e3ba-8133-47f7-b60a-8783e55dee37",
   "metadata": {},
   "outputs": [
    {
     "name": "stdout",
     "output_type": "stream",
     "text": [
      "\n",
      "signal data from:\n",
      "data/signal/4e/4e_1-output_GluGluToHToZZTo4L_M-125_8TeV-powheg15-pythia6.root\n",
      "\n",
      "background data from:\n",
      "data/background/4e/4e_1-output_GluGluToZZTo4L_8TeV-gg2zz-pythia6.root\n",
      "\n",
      "data loaded\n",
      "\n",
      "# of signal events: 7057\n",
      "# of background events: 21500\n",
      "\n",
      "data formatted\n",
      "data preprocessed\n",
      "\n"
     ]
    }
   ],
   "source": [
    "signals_folder = \"./data/signal/4e\"\n",
    "backgrounds_folder = \"./data/background/4e\"\n",
    "\n",
    "\n",
    "use_pca = False\n",
    "\n",
    "\n",
    "\n",
    "num_features = len(training_feature_keys)\n",
    "\n",
    "\n",
    "# load data from files\n",
    "signal_dict, background_dict, files_used = lqm.load_data(\n",
    "    signals_folder, backgrounds_folder, training_feature_keys\n",
    ")\n",
    "\n",
    "# formats data for input into vqc\n",
    "features, labels = lqm.format_data(signal_dict, background_dict)\n",
    "\n",
    "\n",
    "n_signal_events = (labels == 1).sum()\n",
    "n_background_events = (labels == 0).sum()\n",
    "\n",
    "features_signal = features[(labels==1)]\n",
    "features_background = features[(labels==0)]\n",
    "\n",
    "np.random.shuffle(features_signal)\n",
    "np.random.shuffle(features_background)\n",
    "\n",
    "features = np.concatenate((features_signal[:half_datasize], features_background[:half_datasize]))\n",
    "# labels = np.array([1]*half_datasize + [0]*half_datasize, requires_grad=False)\n",
    "labels = np.array([1]*half_datasize + [0]*half_datasize)\n",
    "\n",
    "# splits data into testing and training sets\n",
    "train_features, rest_features, train_labels, rest_labels = train_test_split(\n",
    "    features,\n",
    "    labels,\n",
    "    train_size=train_data_size,\n",
    "    test_size=test_data_size + valid_data_size,\n",
    "    random_state=seed,\n",
    "    stratify=labels\n",
    ")\n",
    "\n",
    "# preprocess data (rescaling)\n",
    "train_features, rest_features = lqm.preprocess_data(\n",
    "    train_features, rest_features, use_pca, num_features, seed\n",
    ")\n",
    "\n",
    "\n",
    "valid_features, test_features, valid_labels, test_labels = train_test_split(\n",
    "    rest_features,\n",
    "    rest_labels,\n",
    "    train_size=valid_data_size,\n",
    "    test_size = test_data_size,\n",
    "    random_state=seed,\n",
    "    stratify=rest_labels\n",
    ")"
   ]
  },
  {
   "cell_type": "code",
   "execution_count": 10,
   "id": "4b4a02e5-83b6-4f26-8174-7e0a0d1ffbba",
   "metadata": {},
   "outputs": [],
   "source": [
    "# def feed_forward(sampler, qc_template, train_feature, weights):\n",
    "#     qc = qc_template.assign_parameters({par_inputs:train_feature, par_weights:weights})\n",
    "\n",
    "#     job = sampler.run(qc, shots=1024)\n",
    "#     result = job.result()\n",
    "#     result_dict = result.quasi_dist[0]\n",
    "#     probs = interpret_result_dict(result_dict)\n",
    "#     return probs\n",
    "\n",
    "# def feed_forward_batch(sampler, qc_template, train_feature_batch, weights):\n",
    "#     return np.array([feed_forward(sampler, qc_template, f, weights) for f in train_feature_batch])"
   ]
  },
  {
   "cell_type": "code",
   "execution_count": 11,
   "id": "11998c57-8d38-459c-b172-e954cea9ce52",
   "metadata": {},
   "outputs": [
    {
     "name": "stdout",
     "output_type": "stream",
     "text": [
      "Epoch:    1 | Iter:    1/40 | Time: 1.01 | Cost val: 0.866 | Acc val:  0.500\n",
      "Epoch:    1 | Iter:    2/40 | Time: 2.50 | Cost val: 0.837 | Acc val:  0.500\n",
      "Epoch:    1 | Iter:    3/40 | Time: 2.51 | Cost val: 0.803 | Acc val:  0.500\n",
      "Epoch:    1 | Iter:    4/40 | Time: 2.62 | Cost val: 0.779 | Acc val:  0.500\n",
      "Epoch:    1 | Iter:    5/40 | Time: 2.56 | Cost val: 0.764 | Acc val:  0.500\n",
      "Epoch:    1 | Iter:    6/40 | Time: 2.27 | Cost val: 0.778 | Acc val:  0.500\n",
      "Epoch:    1 | Iter:    7/40 | Time: 2.68 | Cost val: 0.724 | Acc val:  0.500\n",
      "Epoch:    1 | Iter:    8/40 | Time: 2.34 | Cost val: 0.679 | Acc val:  0.500\n",
      "Epoch:    1 | Iter:    9/40 | Time: 2.36 | Cost val: 0.648 | Acc val:  0.500\n",
      "Epoch:    1 | Iter:   10/40 | Time: 2.63 | Cost val: 0.653 | Acc val:  0.500\n",
      "Epoch:    1 | Iter:   11/40 | Time: 2.35 | Cost val: 0.662 | Acc val:  0.500\n",
      "Epoch:    1 | Iter:   12/40 | Time: 2.35 | Cost val: 0.634 | Acc val:  0.500\n",
      "Epoch:    1 | Iter:   13/40 | Time: 2.41 | Cost val: 0.580 | Acc val:  0.500\n",
      "Epoch:    1 | Iter:   14/40 | Time: 2.40 | Cost val: 0.583 | Acc val:  0.500\n",
      "Epoch:    1 | Iter:   15/40 | Time: 2.01 | Cost val: 0.577 | Acc val:  0.500\n",
      "Epoch:    1 | Iter:   16/40 | Time: 2.71 | Cost val: 0.587 | Acc val:  0.500\n",
      "Epoch:    1 | Iter:   17/40 | Time: 2.43 | Cost val: 0.581 | Acc val:  0.500\n",
      "Epoch:    1 | Iter:   18/40 | Time: 2.05 | Cost val: 0.572 | Acc val:  0.500\n",
      "Epoch:    1 | Iter:   19/40 | Time: 2.45 | Cost val: 0.564 | Acc val:  0.500\n",
      "Epoch:    1 | Iter:   20/40 | Time: 2.44 | Cost val: 0.556 | Acc val:  0.525\n",
      "Epoch:    1 | Iter:   21/40 | Time: 2.44 | Cost val: 0.555 | Acc val:  0.500\n",
      "Epoch:    1 | Iter:   22/40 | Time: 2.47 | Cost val: 0.534 | Acc val:  0.525\n",
      "Epoch:    1 | Iter:   23/40 | Time: 2.48 | Cost val: 0.513 | Acc val:  0.750\n",
      "Epoch:    1 | Iter:   24/40 | Time: 2.54 | Cost val: 0.523 | Acc val:  0.825\n",
      "Epoch:    1 | Iter:   25/40 | Time: 2.12 | Cost val: 0.523 | Acc val:  0.725\n",
      "Epoch:    1 | Iter:   26/40 | Time: 2.59 | Cost val: 0.510 | Acc val:  0.800\n",
      "Epoch:    1 | Iter:   27/40 | Time: 2.55 | Cost val: 0.517 | Acc val:  0.750\n",
      "Epoch:    1 | Iter:   28/40 | Time: 2.08 | Cost val: 0.516 | Acc val:  0.800\n",
      "Epoch:    1 | Iter:   29/40 | Time: 2.57 | Cost val: 0.505 | Acc val:  0.825\n",
      "Epoch:    1 | Iter:   30/40 | Time: 2.11 | Cost val: 0.522 | Acc val:  0.675\n",
      "Epoch:    1 | Iter:   31/40 | Time: 2.56 | Cost val: 0.525 | Acc val:  0.725\n",
      "Epoch:    1 | Iter:   32/40 | Time: 2.61 | Cost val: 0.528 | Acc val:  0.600\n",
      "Epoch:    1 | Iter:   33/40 | Time: 2.10 | Cost val: 0.523 | Acc val:  0.625\n",
      "Epoch:    1 | Iter:   34/40 | Time: 2.61 | Cost val: 0.531 | Acc val:  0.575\n",
      "Epoch:    1 | Iter:   35/40 | Time: 2.15 | Cost val: 0.539 | Acc val:  0.550\n",
      "Epoch:    1 | Iter:   36/40 | Time: 2.74 | Cost val: 0.539 | Acc val:  0.575\n",
      "Epoch:    1 | Iter:   37/40 | Time: 2.16 | Cost val: 0.533 | Acc val:  0.575\n",
      "Epoch:    1 | Iter:   38/40 | Time: 2.73 | Cost val: 0.531 | Acc val:  0.550\n",
      "Epoch:    1 | Iter:   39/40 | Time: 2.19 | Cost val: 0.523 | Acc val:  0.650\n",
      "Epoch:    1 | Iter:   40/40 | Time: 2.21 | Cost val: 0.526 | Acc val:  0.600\n"
     ]
    }
   ],
   "source": [
    "num_train=train_features.shape[0]\n",
    "weights = weights_init\n",
    "n_batches = num_train // batch_size\n",
    "\n",
    "\n",
    "# losses = []\n",
    "times = []\n",
    "losses_valid = []\n",
    "\n",
    "start = time.time()\n",
    "times.append(start)\n",
    "\n",
    "spsa_k = 0\n",
    "\n",
    "estimator = Estimator( backend_options={\"noise_model\": noise_model})\n",
    "\n",
    "for i in range(n_epochs):\n",
    "    indices = list(range(num_train))\n",
    "    np.random.shuffle(indices)\n",
    "    \n",
    "    for j in range(n_batches):\n",
    "        # Update the weights by one optimizer step\n",
    "        batch_index = indices[j*batch_size:(j+1)*batch_size]\n",
    "        # batch_index = np.random.randint(0, num_train, (batch_size,))\n",
    "        train_features_batch = train_features[batch_index]\n",
    "        train_labels_batch = train_labels[batch_index]\n",
    "\n",
    "        spsa_k += 1\n",
    "\n",
    "        spsa_ck = spsa_c / spsa_k ** spsa_gamma\n",
    "        weights_deltas = np.random.choice([-1, 1], size = weights.shape) * spsa_ck\n",
    "        weights_plus = weights + weights_deltas\n",
    "        weights_minus = weights - weights_deltas\n",
    "\n",
    "        qc_plus_list = [qc_template.assign_parameters({par_weights: weights_plus, par_inputs: input}) for input in train_features_batch]\n",
    "        qc_minus_list = [qc_template.assign_parameters({par_weights: weights_minus, par_inputs: input}) for input in train_features_batch]\n",
    "        \n",
    "\n",
    "        qc_list = qc_plus_list + qc_minus_list\n",
    "        obs_list = [obs] * (2*batch_size)\n",
    "        \n",
    "        job = estimator.run(qc_list, obs_list, shots=1024)\n",
    "        result = job.result()\n",
    "        # the results are between -1 and 1\n",
    "        # rescale it to 0 to 1\n",
    "        probs_all = (np.array(result.values) + 1) / 2\n",
    "\n",
    "        probs_plus = probs_all[:batch_size]\n",
    "        probs_minus = probs_all[-batch_size:]\n",
    "\n",
    "        loss_plus = loss(probs_plus, train_labels_batch)\n",
    "        loss_minus = loss(probs_minus, train_labels_batch)\n",
    "\n",
    "        grad = (loss_plus - loss_minus) /2 / weights_deltas\n",
    "\n",
    "        spsa_ak = spsa_a / (spsa_A + spsa_k) ** spsa_alpha\n",
    "\n",
    "        weights -= spsa_ak * grad\n",
    "\n",
    "        np.savez(os.path.join(save_folder, f\"weights_{i}_{j}\"), weights=weights)\n",
    "\n",
    "        times.append(time.time())\n",
    "        delta_t = times[-1]-times[-2]\n",
    "\n",
    "        if is_local_simulator: # would be too costly on a real qpu\n",
    "            qc_valid_list = [qc_template.assign_parameters({par_weights:weights, par_inputs: f}) for f in valid_features]\n",
    "            obs_list = [obs] * len(qc_valid_list)\n",
    "            \n",
    "            job = estimator.run(qc_valid_list, obs_list, shots=1024)\n",
    "            result = job.result()\n",
    "            \n",
    "            probs_valid = (np.array(result.values) + 1 ) / 2\n",
    "            predictions_val = np.round(probs_valid)\n",
    "            acc_valid = accuracy(valid_labels, predictions_val)\n",
    "            cost_valid = loss(probs_valid, valid_labels)\n",
    "\n",
    "            losses_valid.append(cost_valid)\n",
    "    \n",
    "        message = f\"Epoch: {i+1:4d} | Iter: {j+1:4d}/{n_batches} | Time: {delta_t:0.2f} |\" \n",
    "        if is_local_simulator:\n",
    "            message += f\" Cost val: {cost_valid:0.3f} | Acc val:  {acc_valid:0.3f}\"\n",
    "        print(message)\n"
   ]
  },
  {
   "cell_type": "code",
   "execution_count": 12,
   "id": "bbe0a6cc-632e-4a3e-89e1-3224ba5c5614",
   "metadata": {},
   "outputs": [
    {
     "data": {
      "text/plain": [
       "array([-1.0184149 , -0.07785881,  0.26281855, -1.12483798, -0.53635761,\n",
       "        1.18297763, -0.72348494, -0.98603628,  0.92354282, -0.40888536,\n",
       "       -0.65086868,  0.25746774,  1.78187197, -0.20397759, -0.24563772])"
      ]
     },
     "execution_count": 12,
     "metadata": {},
     "output_type": "execute_result"
    }
   ],
   "source": [
    "weights_plus"
   ]
  },
  {
   "cell_type": "code",
   "execution_count": 13,
   "id": "b5118437-1da1-4ad6-b535-a4d036cd64b3",
   "metadata": {},
   "outputs": [
    {
     "name": "stdout",
     "output_type": "stream",
     "text": [
      "Training time: 97 seconds\n",
      "\n"
     ]
    }
   ],
   "source": [
    "elapsed = time.time() - start\n",
    "\n",
    "print(f\"Training time: {round(elapsed)} seconds\\n\")"
   ]
  },
  {
   "cell_type": "code",
   "execution_count": 14,
   "id": "6bf5bb3e-d0c1-4bdb-8b42-1eeb94c6d2ae",
   "metadata": {},
   "outputs": [
    {
     "name": "stdout",
     "output_type": "stream",
     "text": [
      "Testing time: 2 seconds\n",
      "\n",
      "Test accuracy is 0.6375\n"
     ]
    }
   ],
   "source": [
    "start = time.time()\n",
    "\n",
    "qc_test_list = [qc_template.assign_parameters({par_weights:weights, par_inputs: f}) for f in test_features]\n",
    "obs_list = [obs] * len(qc_test_list)\n",
    "\n",
    "job = estimator.run(qc_test_list, obs_list, shots=1024)\n",
    "result = job.result()\n",
    "probs_test = (np.array(result.values) + 1 ) / 2\n",
    "preds_test = np.round(probs_test)\n",
    "\n",
    "elapsed = time.time() - start\n",
    "print(f\"Testing time: {round(elapsed)} seconds\\n\")\n",
    "\n",
    "cost_test = loss(probs_test, test_labels)\n",
    "acc_test = accuracy(preds_test, test_labels)\n",
    "\n",
    "print(f\"Test accuracy is {acc_test}\")"
   ]
  },
  {
   "cell_type": "code",
   "execution_count": 15,
   "id": "a1a906cb-67c5-40c1-94ed-aaeea1ee8c12",
   "metadata": {},
   "outputs": [
    {
     "data": {
      "image/png": "[encoded data removed]",
      "text/plain": [
       "<Figure size 640x480 with 1 Axes>"
      ]
     },
     "metadata": {},
     "output_type": "display_data"
    }
   ],
   "source": [
    "if is_local_simulator:\n",
    "    lqm.plot_loss(losses_valid)\n",
    "    plt.savefig(os.path.join(save_folder, \"validation_loss.png\"))"
   ]
  },
  {
   "cell_type": "code",
   "execution_count": 16,
   "id": "3ba2a958-3734-4fe9-b3d9-935702e60057",
   "metadata": {},
   "outputs": [
    {
     "data": {
      "image/png": "[encoded data removed]",
      "text/plain": [
       "<Figure size 640x480 with 1 Axes>"
      ]
     },
     "metadata": {},
     "output_type": "display_data"
    }
   ],
   "source": [
    "lqm.plot_class_hist(probs_test, test_labels)\n",
    "plt.savefig(os.path.join(save_folder, \"classhist.png\"))"
   ]
  },
  {
   "cell_type": "code",
   "execution_count": 17,
   "id": "c4e76afc-88ea-4005-b6be-1a484db8ea3b",
   "metadata": {},
   "outputs": [
    {
     "data": {
      "image/png": "[encoded data removed]",
      "text/plain": [
       "<Figure size 640x480 with 1 Axes>"
      ]
     },
     "metadata": {},
     "output_type": "display_data"
    }
   ],
   "source": [
    "lqm.plot_roc(probs_test, test_labels)\n",
    "plt.savefig(os.path.join(save_folder, \"roc.png\"))"
   ]
  },
  {
   "cell_type": "code",
   "execution_count": 18,
   "id": "05ed07d8-842b-4336-9b00-c81e90043821",
   "metadata": {},
   "outputs": [
    {
     "name": "stdout",
     "output_type": "stream",
     "text": [
      "\n",
      "\n",
      "\n",
      "\n",
      "\n",
      "\n",
      "| | predict 0 | predict 1|\n",
      "|---|---|---|\n",
      "|true 0|  40 | 0 |\n",
      "|true 1|  29 | 11 |\n"
     ]
    },
    {
     "data": {
      "image/png": "[encoded data removed]",
      "text/plain": [
       "<Figure size 640x480 with 2 Axes>"
      ]
     },
     "metadata": {},
     "output_type": "display_data"
    }
   ],
   "source": [
    "cm = confusion_matrix(test_labels, preds_test)\n",
    "ConfusionMatrixDisplay(cm).plot()\n",
    "\n",
    "print(\"\\n\\n\\n\\n\\n\")\n",
    "\n",
    "# also print a table in the markdown format\n",
    "print(\"| | predict 0 | predict 1|\")\n",
    "print(\"|---|---|---|\")\n",
    "print(f\"|true 0|  {cm[0, 0]} | {cm[0, 1]} |\")\n",
    "print(f\"|true 1|  {cm[1, 0]} | {cm[1, 1]} |\")"
   ]
  },
  {
   "cell_type": "code",
   "execution_count": 19,
   "id": "bf27dcee-67eb-4653-b6c5-4cde0e582f32",
   "metadata": {},
   "outputs": [
    {
     "name": "stdout",
     "output_type": "stream",
     "text": [
      "\n",
      "\n",
      "\n",
      "\n",
      "\n",
      "\n",
      "| range | n signal | n background | percentage signal  | percentage background|\n",
      "|---|---|---|---|---|\n",
      "| >0.4 | 39 | 1 | 97.5%  |  2.5% | \n",
      "| >0.5 | 11 | 0 | 100.0%  |  0.0% | \n",
      "| >0.6 | 0 | 0 | nan%  |  nan% | \n",
      "| >0.7 | 0 | 0 | nan%  |  nan% | \n",
      "| >0.8 | 0 | 0 | nan%  |  nan% | \n",
      "| >0.9 | 0 | 0 | nan%  |  nan% | \n"
     ]
    },
    {
     "name": "stderr",
     "output_type": "stream",
     "text": [
      "/tmp/ipykernel_1423735/3221164460.py:18: RuntimeWarning: invalid value encountered in scalar divide\n",
      "  per_signal = n_signal/n_total * 100\n",
      "/tmp/ipykernel_1423735/3221164460.py:19: RuntimeWarning: invalid value encountered in scalar divide\n",
      "  per_background = n_background/n_total * 100\n"
     ]
    }
   ],
   "source": [
    "print(\"\\n\\n\\n\\n\\n\")\n",
    "\n",
    "\n",
    "print(\"| range | n signal | n background | percentage signal  | percentage background|\")\n",
    "print(\"|---|---|---|---|---|\")\n",
    "\n",
    "cuts = [0.4, 0.5, 0.6, 0.7, 0.8, 0.9]\n",
    "\n",
    "\n",
    "for cut in cuts:\n",
    "    filter = (probs_test > cut)\n",
    "    filtered_labels = test_labels[filter]\n",
    "\n",
    "    n_total = len(filtered_labels)\n",
    "    n_signal = np.sum(filtered_labels).astype(int)\n",
    "    n_background = n_total-n_signal\n",
    "    \n",
    "    per_signal = n_signal/n_total * 100\n",
    "    per_background = n_background/n_total * 100\n",
    "\n",
    "    print(f\"| >{cut:.1f} | {n_signal} | {n_background} | {per_signal:.1f}%  |  {per_background:.1f}% | \")\n",
    "\n"
   ]
  },
  {
   "cell_type": "code",
   "execution_count": 20,
   "id": "b76cdb08-dcfe-445b-87cc-43d717742492",
   "metadata": {},
   "outputs": [
    {
     "data": {
      "text/plain": [
       "array([0.44628906, 0.27246094, 0.31640625, 0.27636719, 0.53808594,\n",
       "       0.30273438, 0.25      , 0.48925781, 0.31738281, 0.28613281,\n",
       "       0.25488281, 0.26171875, 0.24121094, 0.50878906, 0.39355469,\n",
       "       0.49804688, 0.29003906, 0.28417969, 0.48632812, 0.27636719,\n",
       "       0.48632812, 0.43945312, 0.46191406, 0.45605469, 0.32128906,\n",
       "       0.25585938, 0.48144531, 0.48535156, 0.29785156, 0.26269531,\n",
       "       0.4765625 , 0.48925781, 0.51757812, 0.46289062, 0.53710938,\n",
       "       0.29296875, 0.52050781, 0.4765625 , 0.2578125 , 0.24902344,\n",
       "       0.48925781, 0.2578125 , 0.28027344, 0.28222656, 0.25585938,\n",
       "       0.47753906, 0.375     , 0.25878906, 0.32519531, 0.51757812,\n",
       "       0.50195312, 0.5       , 0.26171875, 0.28320312, 0.31054688,\n",
       "       0.4765625 , 0.43359375, 0.30371094, 0.54296875, 0.47167969,\n",
       "       0.26367188, 0.24902344, 0.24414062, 0.56542969, 0.46289062,\n",
       "       0.50488281, 0.49609375, 0.48046875, 0.25097656, 0.44824219,\n",
       "       0.46289062, 0.46386719, 0.29882812, 0.25      , 0.44824219,\n",
       "       0.49023438, 0.26367188, 0.25976562, 0.52539062, 0.4609375 ])"
      ]
     },
     "execution_count": 20,
     "metadata": {},
     "output_type": "execute_result"
    }
   ],
   "source": [
    "probs_test"
   ]
  },
  {
   "cell_type": "code",
   "execution_count": 21,
   "id": "1d876351-8cf9-41c7-8c81-419479ac9e73",
   "metadata": {},
   "outputs": [
    {
     "data": {
      "text/plain": [
       "<NoiseModel on ['id', 'reset', 'sx', 'x', 'ecr', 'measure']>"
      ]
     },
     "execution_count": 21,
     "metadata": {},
     "output_type": "execute_result"
    }
   ],
   "source": [
    "noise_model"
   ]
  },
  {
   "cell_type": "code",
   "execution_count": null,
   "id": "1c4094ab-a303-4fdf-9585-8e54e5713858",
   "metadata": {},
   "outputs": [],
   "source": []
  }
 ],
 "metadata": {
  "kernelspec": {
   "display_name": "Python 3 (ipykernel)",
   "language": "python",
   "name": "python3"
  },
  "language_info": {
   "codemirror_mode": {
    "name": "ipython",
    "version": 3
   },
   "file_extension": ".py",
   "mimetype": "text/x-python",
   "name": "python",
   "nbconvert_exporter": "python",
   "pygments_lexer": "ipython3",
   "version": "3.11.7"
  }
 },
 "nbformat": 4,
 "nbformat_minor": 5
}
