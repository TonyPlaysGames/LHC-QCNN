{
 "cells": [
  {
   "cell_type": "code",
   "execution_count": 1,
   "id": "6b509faf-9730-4c6e-8b37-b5d5171342f2",
   "metadata": {},
   "outputs": [],
   "source": [
    "import pennylane as qml\n",
    "from pennylane import numpy as np\n",
    "from pennylane.optimize import NesterovMomentumOptimizer\n",
    "import LHC_QML_module as lqm\n",
    "from sklearn.model_selection import train_test_split\n",
    "from sklearn.metrics import confusion_matrix\n",
    "from sklearn.metrics import ConfusionMatrixDisplay\n",
    "import time\n",
    "from matplotlib import pyplot as plt\n",
    "\n",
    "from warnings import simplefilter\n",
    "import random\n",
    "import os\n",
    "import jax\n",
    "import jax.numpy as jnp\n",
    "import optax"
   ]
  },
  {
   "cell_type": "code",
   "execution_count": 2,
   "id": "bd1cb5fa-2eaf-42f1-86da-575112651847",
   "metadata": {},
   "outputs": [],
   "source": [
    "seed = 123 # note, the seed does not work for the quantum circuit in this notebook\n",
    "# for the quantum circuit in this notebook, I don't yet know a way to provide a seed\n",
    "\n",
    "# Features to train on\n",
    "training_feature_keys = [\n",
    "    \"f_mass4l\",\n",
    "    \"f_eta4l\",\n",
    "    \"f_Z2mass\",\n",
    "    \"f_Z1mass\",\n",
    "]\n",
    "\n",
    "# save_folder = os.path.join(\"saved\", \"model1-testspeed-ionq\")\n",
    "\n",
    "batch_size = 1\n",
    "n_epochs = 1\n",
    "\n",
    "n_qubits = len(training_feature_keys)"
   ]
  },
  {
   "cell_type": "code",
   "execution_count": 3,
   "id": "f12fa4f5-3ce7-4853-b003-bc78967b57a5",
   "metadata": {},
   "outputs": [],
   "source": [
    "jax.config.update(\"jax_enable_x64\", True)\n",
    "np.random.seed(seed)"
   ]
  },
  {
   "cell_type": "code",
   "execution_count": 4,
   "id": "9acd6011-7502-4bee-8421-12365bf7201e",
   "metadata": {},
   "outputs": [],
   "source": [
    "dev = qml.device(\"ionq.simulator\", wires=n_qubits, shots=1024)"
   ]
  },
  {
   "cell_type": "code",
   "execution_count": 6,
   "id": "85b014e7-1397-4d06-a8eb-f9d6fad73599",
   "metadata": {},
   "outputs": [],
   "source": [
    "@qml.qnode(dev)\n",
    "def qnode(weights, inputs):\n",
    "    qml.AngleEmbedding(inputs, wires=range(n_qubits))\n",
    "    qml.BasicEntanglerLayers(weights, wires=range(n_qubits))\n",
    "    return qml.expval(qml.PauliX(0))\n",
    "\n",
    "# @jax.jit\n",
    "def model(weights, inputs):\n",
    "    return (qnode(weights, inputs)+1)/2\n",
    "\n",
    "# @jax.jit\n",
    "def loss(prob, label):\n",
    "    # print(prob)\n",
    "    return -jnp.mean(label*jnp.log(prob+1e-5)+(1-label)*jnp.log(1-prob+1e-5))\n",
    "\n",
    "# @jax.jit\n",
    "def accuracy(pred, label):\n",
    "    return jnp.mean(jnp.isclose(pred,label))\n",
    "\n",
    "# @jax.jit\n",
    "def cost(weights, features, labels):\n",
    "    probs = jnp.array([model(weights, f) for f in features])\n",
    "    # probs = model(weights, features)\n",
    "    return loss(probs, labels)"
   ]
  },
  {
   "cell_type": "code",
   "execution_count": 7,
   "id": "16f2f49f-afe3-4939-94aa-d8164e9c76aa",
   "metadata": {},
   "outputs": [
    {
     "name": "stderr",
     "output_type": "stream",
     "text": [
      "No GPU/TPU found, falling back to CPU. (Set TF_CPP_MIN_LOG_LEVEL=0 and rerun for more info.)\n"
     ]
    },
    {
     "name": "stdout",
     "output_type": "stream",
     "text": [
      "(2, 4)\n"
     ]
    }
   ],
   "source": [
    "num_layers = 2\n",
    "\n",
    "weights_init = 0.5 * np.random.randn(num_layers, n_qubits)\n",
    "weights_init = jnp.array(weights_init)\n",
    "\n",
    "print(weights_init.shape)"
   ]
  },
  {
   "cell_type": "code",
   "execution_count": 8,
   "id": "ed4c385e-c331-43bc-a3da-11e2ed1b2e19",
   "metadata": {},
   "outputs": [
    {
     "name": "stdout",
     "output_type": "stream",
     "text": [
      "\n",
      "signal data from:\n",
      "data/signal/4e/4e_1-output_GluGluToHToZZTo4L_M-125_8TeV-powheg15-pythia6.root\n",
      "\n",
      "background data from:\n",
      "data/background/4e/4e_1-output_GluGluToZZTo4L_8TeV-gg2zz-pythia6.root\n",
      "\n",
      "data loaded\n",
      "\n",
      "# of signal events: 7057\n",
      "# of background events: 21500\n",
      "\n",
      "data formatted\n",
      "data preprocessed\n",
      "\n"
     ]
    }
   ],
   "source": [
    "signals_folder = \"./data/signal/4e\"\n",
    "backgrounds_folder = \"./data/background/4e\"\n",
    "\n",
    "choice_feature_keys = [\n",
    "    \"f_lept1_pt\",\n",
    "    \"f_lept1_eta\",\n",
    "    \"f_lept1_phi\",\n",
    "    \"f_lept1_pfx\",\n",
    "    \"f_lept2_pt\",\n",
    "    \"f_lept2_eta\",\n",
    "    \"f_lept2_phi\",\n",
    "    \"f_lept2_pfx\",\n",
    "    \"f_lept3_pt\",\n",
    "    \"f_lept3_eta\",\n",
    "    \"f_lept3_phi\",\n",
    "    \"f_lept4_pt\",\n",
    "    \"f_lept4_eta\",\n",
    "    \"f_lept4_phi\",\n",
    "    \"f_Z1mass\",\n",
    "    \"f_Z2mass\",\n",
    "    \"f_angle_costhetastar\",\n",
    "    \"f_angle_costheta1\",\n",
    "    \"f_angle_costheta2\",\n",
    "    \"f_angle_phi\",\n",
    "    \"f_angle_phistar1\",\n",
    "    \"f_pt4l\",\n",
    "    \"f_eta4l\",\n",
    "    \"f_mass4l\",\n",
    "    \"f_deltajj\",\n",
    "    \"f_massjj\",\n",
    "    \"f_jet1_pt\",\n",
    "    \"f_jet1_eta\",\n",
    "    \"f_jet1_phi\",\n",
    "    \"f_jet1_e\",\n",
    "    \"f_jet2_pt\",\n",
    "    \"f_jet2_eta\",\n",
    "    \"f_jet2_phi\",\n",
    "    \"f_jet2_e\",\n",
    "]\n",
    "\n",
    "use_pca = False\n",
    "\n",
    "\n",
    "\n",
    "num_features = len(training_feature_keys)\n",
    "\n",
    "\n",
    "# load data from files\n",
    "signal_dict, background_dict, files_used = lqm.load_data(\n",
    "    signals_folder, backgrounds_folder, training_feature_keys\n",
    ")\n",
    "\n",
    "# formats data for input into vqc\n",
    "features, labels = lqm.format_data(signal_dict, background_dict)\n",
    "\n",
    "# for some reason, if you want to use jax.jit and jax.vmap with default.qubit, you need to use float64\n",
    "# if you use float32, it will give you an error message\n",
    "features = features.astype(np.float64)\n",
    "\n",
    "# this is clunky, might want to make this its own function or something\n",
    "# makes sure we use an equal amount of signal and background even if we have more signal than background\n",
    "n_signal_events = (labels == 1).sum()\n",
    "n_background_events = (labels == 0).sum()\n",
    "if n_signal_events <= n_background_events:\n",
    "    start = 0\n",
    "    stop = 2 * n_signal_events\n",
    "else:\n",
    "    start = -2 * n_background_events\n",
    "    stop = None\n",
    "\n",
    "# splits data into testing and training sets\n",
    "# data is first cut to inlcude equal number of signal and background events\n",
    "# TODO: maybe split signal and backgrounds seperately to ensure equal number of signal/background in each test/training set and then combine and randomize order\n",
    "train_features, rest_features, train_labels, rest_labels = train_test_split(\n",
    "    features[start:stop, :],\n",
    "    labels[start:stop],\n",
    "    train_size=0.75,\n",
    "    random_state=seed,\n",
    "    stratify=labels[start:stop]\n",
    ")\n",
    "\n",
    "# preprocess data\n",
    "train_features, rest_features = lqm.preprocess_data(\n",
    "    train_features, rest_features, use_pca, num_features, seed\n",
    ")\n",
    "\n",
    "valid_features, test_features, valid_labels, test_labels = train_test_split(\n",
    "    rest_features,\n",
    "    rest_labels,\n",
    "    train_size=0.2,  # meaning testing set will be 20% of the whole, while validation set 5% of the whole\n",
    "    random_state=seed,\n",
    "    stratify=rest_labels\n",
    ")"
   ]
  },
  {
   "cell_type": "code",
   "execution_count": 9,
   "id": "27d129bd-14bf-4932-b2bb-f18f02638033",
   "metadata": {},
   "outputs": [],
   "source": [
    "train_features = jnp.array(train_features)\n",
    "train_labels = jnp.array(train_labels)\n",
    "valid_features = jnp.array(valid_features)\n",
    "valid_labels = jnp.array(valid_labels)\n",
    "# test_features = jnp.array(test_features)\n",
    "# test_labels = jnp.array(test_labels)\n",
    "\n",
    "# maybe not necessary, but just in case"
   ]
  },
  {
   "cell_type": "code",
   "execution_count": 10,
   "id": "651a6759-23d1-4edb-a4c1-8ec0cf57db6c",
   "metadata": {},
   "outputs": [],
   "source": [
    "num_train=train_features.shape[0]\n",
    "\n",
    "# opt = NesterovMomentumOptimizer(0.01)\n",
    "optimizer = optax.adam(0.01)\n",
    "\n",
    "# train the variational classifier\n",
    "weights = weights_init\n",
    "weights_best_loss = weights\n",
    "best_loss = np.inf"
   ]
  },
  {
   "cell_type": "code",
   "execution_count": 11,
   "id": "68b8f36a-bc8d-4473-b39a-c509863e5d0e",
   "metadata": {},
   "outputs": [],
   "source": [
    "opt_state = optimizer.init(weights)"
   ]
  },
  {
   "cell_type": "code",
   "execution_count": 12,
   "id": "543cfa3f-d7a8-49e6-b4a0-bad14f3467f4",
   "metadata": {},
   "outputs": [
    {
     "data": {
      "text/plain": [
       "Array([0.03042169, 0.42738457, 0.16541518, 0.55854005], dtype=float64)"
      ]
     },
     "execution_count": 12,
     "metadata": {},
     "output_type": "execute_result"
    }
   ],
   "source": [
    "valid_features[0]"
   ]
  },
  {
   "cell_type": "code",
   "execution_count": 13,
   "id": "14be14ad-810f-46b5-aa6c-2a7e25fe7c33",
   "metadata": {},
   "outputs": [
    {
     "data": {
      "text/plain": [
       "Array([[0.03042169, 0.42738457, 0.16541518, 0.55854005]], dtype=float64)"
      ]
     },
     "execution_count": 13,
     "metadata": {},
     "output_type": "execute_result"
    }
   ],
   "source": [
    "valid_features[:1]"
   ]
  },
  {
   "cell_type": "code",
   "execution_count": 14,
   "id": "0bb0e635-c04f-407d-8964-bd511bf074b0",
   "metadata": {},
   "outputs": [
    {
     "name": "stdout",
     "output_type": "stream",
     "text": [
      "2.801501989364624\n"
     ]
    }
   ],
   "source": [
    "now = time.time()\n",
    "\n",
    "model(weights, valid_features[0])\n",
    "\n",
    "now, last = time.time(), now\n",
    "print(now - last)\n"
   ]
  },
  {
   "cell_type": "code",
   "execution_count": 15,
   "id": "1ed6d324-aef8-4394-bc45-c099ee840d8e",
   "metadata": {},
   "outputs": [
    {
     "name": "stdout",
     "output_type": "stream",
     "text": [
      "92.07054090499878\n"
     ]
    }
   ],
   "source": [
    "now = time.time()\n",
    "\n",
    "model(weights, valid_features[:10])\n",
    "\n",
    "now, last = time.time(), now\n",
    "print(now - last)"
   ]
  },
  {
   "cell_type": "code",
   "execution_count": 16,
   "id": "e7e9bdd8-6734-49d8-aaab-b5d7b0a6acb1",
   "metadata": {},
   "outputs": [
    {
     "name": "stdout",
     "output_type": "stream",
     "text": [
      "36.98423647880554\n"
     ]
    }
   ],
   "source": [
    "now = time.time()\n",
    "\n",
    "cost_grads = jax.grad(cost)     \n",
    "grads = cost_grads(weights, train_features[:1], train_labels[:1])\n",
    "\n",
    "now, last = time.time(), now\n",
    "print(now - last)"
   ]
  },
  {
   "cell_type": "code",
   "execution_count": 17,
   "id": "8a972eb9-5c6f-4420-8011-69f7327dc030",
   "metadata": {},
   "outputs": [
    {
     "name": "stdout",
     "output_type": "stream",
     "text": [
      "304.20461320877075\n"
     ]
    }
   ],
   "source": [
    "now = time.time()\n",
    "\n",
    "cost_grads = jax.grad(cost)     \n",
    "grads = cost_grads(weights, train_features[:5], train_labels[:5])\n",
    "\n",
    "now, last = time.time(), now\n",
    "print(now - last)"
   ]
  },
  {
   "cell_type": "code",
   "execution_count": null,
   "id": "e3e2bc39-7bcd-43da-8fbb-fe72ea2dc735",
   "metadata": {},
   "outputs": [],
   "source": [
    "now = time.time()\n",
    "\n",
    "cost_grads = jax.grad(cost)     \n",
    "grads = cost_grads(weights, train_features[:5], train_labels[:5])\n",
    "\n",
    "now, last = time.time(), now\n",
    "print(now - last)"
   ]
  }
 ],
 "metadata": {
  "kernelspec": {
   "display_name": "Python 3 (ipykernel)",
   "language": "python",
   "name": "python3"
  },
  "language_info": {
   "codemirror_mode": {
    "name": "ipython",
    "version": 3
   },
   "file_extension": ".py",
   "mimetype": "text/x-python",
   "name": "python",
   "nbconvert_exporter": "python",
   "pygments_lexer": "ipython3",
   "version": "3.11.7"
  }
 },
 "nbformat": 4,
 "nbformat_minor": 5
}
