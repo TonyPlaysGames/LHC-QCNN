{
 "cells": [
  {
   "cell_type": "code",
   "execution_count": 19,
   "id": "8d01aaa7-3025-44ae-acce-3bc680c32978",
   "metadata": {},
   "outputs": [
    {
     "name": "stdout",
     "output_type": "stream",
     "text": [
      "Job finished in 0.0032584667205810547 seconds\n",
      "4 calls take 0.010468006134033203s\n"
     ]
    }
   ],
   "source": [
    "import pennylane as qml\n",
    "from pennylane import numpy as np\n",
    "import time\n",
    "\n",
    "n_qubits = 4\n",
    "dev = qml.device(\"default.qubit\",  wires=n_qubits, shots=1024)\n",
    "\n",
    "@qml.qnode(dev)\n",
    "def qnode(weights, inputs):\n",
    "    qml.AngleEmbedding(inputs, wires=range(n_qubits))\n",
    "    qml.BasicEntanglerLayers(weights, wires=range(n_qubits))\n",
    "    return qml.expval(qml.PauliX(0))\n",
    "\n",
    "\n",
    "def model(weights, inputs):\n",
    "    return (qnode(weights, inputs)+1)/2\n",
    "\n",
    "num_layers = 2\n",
    "weights = 0.5 * np.random.randn(num_layers, n_qubits)\n",
    "inputs = np.random.randn(n_qubits)\n",
    "\n",
    "start = time.time()\n",
    "model(weights, inputs)\n",
    "end = time.time()\n",
    "\n",
    "print(f\"Job finished in {end - start} seconds\")\n",
    "\n",
    "time.sleep(10)\n",
    "start = time.time()\n",
    "for i in range(4):\n",
    "    model(weights, inputs)\n",
    "end = time.time()\n",
    "print(f\"4 calls take {end-start}s\")"
   ]
  },
  {
   "cell_type": "code",
   "execution_count": null,
   "id": "ab6e33af-8c58-491a-a3ff-15e89a037d13",
   "metadata": {},
   "outputs": [],
   "source": []
  }
 ],
 "metadata": {
  "kernelspec": {
   "display_name": "Python 3 (ipykernel)",
   "language": "python",
   "name": "python3"
  },
  "language_info": {
   "codemirror_mode": {
    "name": "ipython",
    "version": 3
   },
   "file_extension": ".py",
   "mimetype": "text/x-python",
   "name": "python",
   "nbconvert_exporter": "python",
   "pygments_lexer": "ipython3",
   "version": "3.11.7"
  }
 },
 "nbformat": 4,
 "nbformat_minor": 5
}
