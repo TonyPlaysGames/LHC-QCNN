{
 "cells": [
  {
   "cell_type": "code",
   "execution_count": 1,
   "id": "e2a26d0e-5435-44f2-8951-32481ee88940",
   "metadata": {},
   "outputs": [],
   "source": [
    "import pennylane as qml\n",
    "from pennylane import numpy as np"
   ]
  },
  {
   "cell_type": "code",
   "execution_count": 2,
   "id": "739f809f-d621-4bc0-971e-801a54a9b3ef",
   "metadata": {},
   "outputs": [],
   "source": [
    "n_qubits = 2\n",
    "dev = qml.device(\"ionq.simulator\", wires=n_qubits, shots=1024)"
   ]
  },
  {
   "cell_type": "code",
   "execution_count": 3,
   "id": "c17e14cb-b8ec-44ba-9ab8-60bc49b1bd1a",
   "metadata": {},
   "outputs": [
    {
     "data": {
      "text/plain": [
       "{'input': {'format': 'ionq.circuit.v0',\n",
       "  'qubits': 2,\n",
       "  'circuit': [],\n",
       "  'gateset': 'qis'},\n",
       " 'target': 'simulator',\n",
       " 'shots': 1024}"
      ]
     },
     "execution_count": 3,
     "metadata": {},
     "output_type": "execute_result"
    }
   ],
   "source": [
    "dev.job"
   ]
  },
  {
   "cell_type": "code",
   "execution_count": 4,
   "id": "1ad93976-6d8f-4b25-bb1a-c05d19850953",
   "metadata": {},
   "outputs": [],
   "source": [
    "@qml.qnode(dev)\n",
    "def qnode():\n",
    "    qml.Hadamard(wires=1)\n",
    "    return qml.counts()"
   ]
  },
  {
   "cell_type": "code",
   "execution_count": 5,
   "id": "fb03f3b8-71f4-449c-8716-5b154c1bc63d",
   "metadata": {},
   "outputs": [
    {
     "data": {
      "text/plain": [
       "{'input': {'format': 'ionq.circuit.v0',\n",
       "  'qubits': 2,\n",
       "  'circuit': [],\n",
       "  'gateset': 'qis'},\n",
       " 'target': 'simulator',\n",
       " 'shots': 1024}"
      ]
     },
     "execution_count": 5,
     "metadata": {},
     "output_type": "execute_result"
    }
   ],
   "source": [
    "dev.job"
   ]
  },
  {
   "cell_type": "code",
   "execution_count": 6,
   "id": "76e2662f-da45-43ea-9df2-29ba9333408a",
   "metadata": {},
   "outputs": [
    {
     "data": {
      "text/plain": [
       "{'00': tensor(511, requires_grad=True), '01': tensor(513, requires_grad=True)}"
      ]
     },
     "execution_count": 6,
     "metadata": {},
     "output_type": "execute_result"
    }
   ],
   "source": [
    "qnode()"
   ]
  },
  {
   "cell_type": "code",
   "execution_count": 7,
   "id": "1dc8ea16-5e04-465a-a5e2-bbfd905a62b3",
   "metadata": {},
   "outputs": [
    {
     "data": {
      "text/plain": [
       "{'input': {'format': 'ionq.circuit.v0',\n",
       "  'qubits': 2,\n",
       "  'circuit': [{'gate': 'h', 'target': 1}],\n",
       "  'gateset': 'qis'},\n",
       " 'target': 'simulator',\n",
       " 'shots': 1024}"
      ]
     },
     "execution_count": 7,
     "metadata": {},
     "output_type": "execute_result"
    }
   ],
   "source": [
    "dev.job"
   ]
  },
  {
   "cell_type": "code",
   "execution_count": null,
   "id": "60bd4b00-60a5-4c61-98b8-498d20af4a64",
   "metadata": {},
   "outputs": [],
   "source": []
  }
 ],
 "metadata": {
  "kernelspec": {
   "display_name": "Python 3 (ipykernel)",
   "language": "python",
   "name": "python3"
  },
  "language_info": {
   "codemirror_mode": {
    "name": "ipython",
    "version": 3
   },
   "file_extension": ".py",
   "mimetype": "text/x-python",
   "name": "python",
   "nbconvert_exporter": "python",
   "pygments_lexer": "ipython3",
   "version": "3.11.7"
  }
 },
 "nbformat": 4,
 "nbformat_minor": 5
}
