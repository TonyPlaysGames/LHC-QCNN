{
 "cells": [
  {
   "cell_type": "code",
   "execution_count": 1,
   "id": "9d621dfb-2d4d-4202-a23d-98694938595e",
   "metadata": {},
   "outputs": [],
   "source": [
    "import numpy as np\n",
    "\n",
    "from qiskit import QuantumCircuit\n",
    "from qiskit_ibm_runtime import QiskitRuntimeService, Session, Sampler, Estimator\n",
    "from qiskit.circuit import ParameterVector\n",
    "from qiskit.quantum_info import SparsePauliOp"
   ]
  },
  {
   "cell_type": "code",
   "execution_count": 2,
   "id": "43b684c9-af29-41cb-8aad-821e4aaaa2f0",
   "metadata": {},
   "outputs": [],
   "source": [
    "num_layers = 4\n",
    "n_qubits = 3\n",
    "\n",
    "inputs = ParameterVector(\"input\", n_qubits)\n",
    "weights = ParameterVector(\"weights\", num_layers * n_qubits)\n",
    "\n",
    "qc = QuantumCircuit(3)\n",
    "for i in range(n_qubits):\n",
    "    qc.rx(inputs[i], i)\n",
    "\n",
    "for i in range(n_qubits):\n",
    "    qc.ry(weights[i], i)\n",
    "\n",
    "for i in range(n_qubits):\n",
    "    qc.cx(i, (i+1)%n_qubits)\n",
    "\n",
    "for i in range(n_qubits):\n",
    "    qc.rz(weights[i+3], i)\n",
    "\n",
    "for i in range(n_qubits):\n",
    "    qc.cx(i, (i+1)%n_qubits)\n",
    "\n",
    "for i in range(n_qubits):\n",
    "    qc.rx(weights[i+6], i)\n",
    "\n",
    "for i in range(n_qubits):\n",
    "    qc.cx(i, (i+1)%n_qubits)\n",
    "\n",
    "for i in range(n_qubits):\n",
    "    qc.rz(weights[i+9], i)\n",
    "\n",
    "for i in range(n_qubits):\n",
    "    qc.cx(i, (i+1)%n_qubits)"
   ]
  },
  {
   "cell_type": "code",
   "execution_count": 3,
   "id": "35326d0d-e945-46e8-b6d8-e8a4ab685d6b",
   "metadata": {},
   "outputs": [
    {
     "data": {
      "text/html": [
       "<pre style=\"word-wrap: normal;white-space: pre;background: #fff0;line-height: 1.1;font-family: &quot;Courier New&quot;,Courier,monospace\">     ┌──────────────┐┌────────────────┐          ┌───┐┌────────────────┐     »\n",
       "q_0: ┤ Rx(input[0]) ├┤ Ry(weights[0]) ├──■───────┤ X ├┤ Rz(weights[3]) ├──■──»\n",
       "     ├──────────────┤├────────────────┤┌─┴─┐     └─┬─┘├────────────────┤┌─┴─┐»\n",
       "q_1: ┤ Rx(input[1]) ├┤ Ry(weights[1]) ├┤ X ├──■────┼──┤ Rz(weights[4]) ├┤ X ├»\n",
       "     ├──────────────┤├────────────────┤└───┘┌─┴─┐  │  ├────────────────┤└───┘»\n",
       "q_2: ┤ Rx(input[2]) ├┤ Ry(weights[2]) ├─────┤ X ├──■──┤ Rz(weights[5]) ├─────»\n",
       "     └──────────────┘└────────────────┘     └───┘     └────────────────┘     »\n",
       "«          ┌───┐┌────────────────┐          ┌───┐ ┌────────────────┐          »\n",
       "«q_0: ─────┤ X ├┤ Rx(weights[6]) ├──■───────┤ X ├─┤ Rz(weights[9]) ├──■───────»\n",
       "«          └─┬─┘├────────────────┤┌─┴─┐     └─┬─┘┌┴────────────────┤┌─┴─┐     »\n",
       "«q_1: ──■────┼──┤ Rx(weights[7]) ├┤ X ├──■────┼──┤ Rz(weights[10]) ├┤ X ├──■──»\n",
       "«     ┌─┴─┐  │  ├────────────────┤└───┘┌─┴─┐  │  ├─────────────────┤└───┘┌─┴─┐»\n",
       "«q_2: ┤ X ├──■──┤ Rx(weights[8]) ├─────┤ X ├──■──┤ Rz(weights[11]) ├─────┤ X ├»\n",
       "«     └───┘     └────────────────┘     └───┘     └─────────────────┘     └───┘»\n",
       "«     ┌───┐\n",
       "«q_0: ┤ X ├\n",
       "«     └─┬─┘\n",
       "«q_1: ──┼──\n",
       "«       │  \n",
       "«q_2: ──■──\n",
       "«          </pre>"
      ],
      "text/plain": [
       "     ┌──────────────┐┌────────────────┐          ┌───┐┌────────────────┐     »\n",
       "q_0: ┤ Rx(input[0]) ├┤ Ry(weights[0]) ├──■───────┤ X ├┤ Rz(weights[3]) ├──■──»\n",
       "     ├──────────────┤├────────────────┤┌─┴─┐     └─┬─┘├────────────────┤┌─┴─┐»\n",
       "q_1: ┤ Rx(input[1]) ├┤ Ry(weights[1]) ├┤ X ├──■────┼──┤ Rz(weights[4]) ├┤ X ├»\n",
       "     ├──────────────┤├────────────────┤└───┘┌─┴─┐  │  ├────────────────┤└───┘»\n",
       "q_2: ┤ Rx(input[2]) ├┤ Ry(weights[2]) ├─────┤ X ├──■──┤ Rz(weights[5]) ├─────»\n",
       "     └──────────────┘└────────────────┘     └───┘     └────────────────┘     »\n",
       "«          ┌───┐┌────────────────┐          ┌───┐ ┌────────────────┐          »\n",
       "«q_0: ─────┤ X ├┤ Rx(weights[6]) ├──■───────┤ X ├─┤ Rz(weights[9]) ├──■───────»\n",
       "«          └─┬─┘├────────────────┤┌─┴─┐     └─┬─┘┌┴────────────────┤┌─┴─┐     »\n",
       "«q_1: ──■────┼──┤ Rx(weights[7]) ├┤ X ├──■────┼──┤ Rz(weights[10]) ├┤ X ├──■──»\n",
       "«     ┌─┴─┐  │  ├────────────────┤└───┘┌─┴─┐  │  ├─────────────────┤└───┘┌─┴─┐»\n",
       "«q_2: ┤ X ├──■──┤ Rx(weights[8]) ├─────┤ X ├──■──┤ Rz(weights[11]) ├─────┤ X ├»\n",
       "«     └───┘     └────────────────┘     └───┘     └─────────────────┘     └───┘»\n",
       "«     ┌───┐\n",
       "«q_0: ┤ X ├\n",
       "«     └─┬─┘\n",
       "«q_1: ──┼──\n",
       "«       │  \n",
       "«q_2: ──■──\n",
       "«          "
      ]
     },
     "execution_count": 3,
     "metadata": {},
     "output_type": "execute_result"
    }
   ],
   "source": [
    "qc.draw()"
   ]
  },
  {
   "cell_type": "code",
   "execution_count": 4,
   "id": "8a82366e-51ee-4e4c-87ca-dee2c7b94c0b",
   "metadata": {},
   "outputs": [],
   "source": [
    "obs = SparsePauliOp(\"ZZI\")"
   ]
  },
  {
   "cell_type": "code",
   "execution_count": 5,
   "id": "dbf7c6bb-8ca2-436f-ab38-e7cd57447152",
   "metadata": {},
   "outputs": [],
   "source": [
    "service = QiskitRuntimeService()\n",
    "backend = service.get_backend(\"ibmq_qasm_simulator\")"
   ]
  },
  {
   "cell_type": "code",
   "execution_count": 6,
   "id": "b8cc6d4a-70ba-4e7a-8ddb-2e2b7e35e3b9",
   "metadata": {},
   "outputs": [],
   "source": [
    "weights_init = np.random.randn(num_layers * n_qubits)\n",
    "inputs_init = np.random.randn(n_qubits)"
   ]
  },
  {
   "cell_type": "code",
   "execution_count": 7,
   "id": "267b34ec-9df6-4f24-ad67-6adcf203abde",
   "metadata": {},
   "outputs": [],
   "source": [
    "qc.assign_parameters({weights:weights_init, inputs:inputs_init}, inplace=True)"
   ]
  },
  {
   "cell_type": "code",
   "execution_count": 8,
   "id": "1b341ca2-e6a5-464e-9b93-bd21188e4cc4",
   "metadata": {},
   "outputs": [
    {
     "data": {
      "text/html": [
       "<pre style=\"word-wrap: normal;white-space: pre;background: #fff0;line-height: 1.1;font-family: &quot;Courier New&quot;,Courier,monospace\">      ┌────────────┐ ┌─────────────┐           ┌───┐┌─────────────┐           »\n",
       "q_0: ─┤ Rx(-1.416) ├─┤ Ry(-1.6166) ├───■───────┤ X ├┤ Rz(0.46169) ├───■───────»\n",
       "     ┌┴────────────┴┐├─────────────┴┐┌─┴─┐     └─┬─┘├─────────────┴┐┌─┴─┐     »\n",
       "q_1: ┤ Rx(-0.24067) ├┤ Ry(-0.11984) ├┤ X ├──■────┼──┤ Rz(-0.50251) ├┤ X ├──■──»\n",
       "     ├─────────────┬┘├─────────────┬┘└───┘┌─┴─┐  │  ├─────────────┬┘└───┘┌─┴─┐»\n",
       "q_2: ┤ Rx(0.37597) ├─┤ Ry(-1.5287) ├──────┤ X ├──■──┤ Rz(-1.0869) ├──────┤ X ├»\n",
       "     └─────────────┘ └─────────────┘      └───┘     └─────────────┘      └───┘»\n",
       "«     ┌───┐┌──────────────┐          ┌───┐ ┌─────────────┐           ┌───┐\n",
       "«q_0: ┤ X ├┤ Rx(-0.59304) ├──■───────┤ X ├─┤ Rz(0.58515) ├───■───────┤ X ├\n",
       "«     └─┬─┘├──────────────┤┌─┴─┐     └─┬─┘ ├─────────────┴┐┌─┴─┐     └─┬─┘\n",
       "«q_1: ──┼──┤ Rx(-0.13782) ├┤ X ├──■────┼───┤ Rz(-0.69088) ├┤ X ├──■────┼──\n",
       "«       │  ├─────────────┬┘└───┘┌─┴─┐  │  ┌┴──────────────┤└───┘┌─┴─┐  │  \n",
       "«q_2: ──■──┤ Rx(-1.1636) ├──────┤ X ├──■──┤ Rz(-0.021717) ├─────┤ X ├──■──\n",
       "«          └─────────────┘      └───┘     └───────────────┘     └───┘     </pre>"
      ],
      "text/plain": [
       "      ┌────────────┐ ┌─────────────┐           ┌───┐┌─────────────┐           »\n",
       "q_0: ─┤ Rx(-1.416) ├─┤ Ry(-1.6166) ├───■───────┤ X ├┤ Rz(0.46169) ├───■───────»\n",
       "     ┌┴────────────┴┐├─────────────┴┐┌─┴─┐     └─┬─┘├─────────────┴┐┌─┴─┐     »\n",
       "q_1: ┤ Rx(-0.24067) ├┤ Ry(-0.11984) ├┤ X ├──■────┼──┤ Rz(-0.50251) ├┤ X ├──■──»\n",
       "     ├─────────────┬┘├─────────────┬┘└───┘┌─┴─┐  │  ├─────────────┬┘└───┘┌─┴─┐»\n",
       "q_2: ┤ Rx(0.37597) ├─┤ Ry(-1.5287) ├──────┤ X ├──■──┤ Rz(-1.0869) ├──────┤ X ├»\n",
       "     └─────────────┘ └─────────────┘      └───┘     └─────────────┘      └───┘»\n",
       "«     ┌───┐┌──────────────┐          ┌───┐ ┌─────────────┐           ┌───┐\n",
       "«q_0: ┤ X ├┤ Rx(-0.59304) ├──■───────┤ X ├─┤ Rz(0.58515) ├───■───────┤ X ├\n",
       "«     └─┬─┘├──────────────┤┌─┴─┐     └─┬─┘ ├─────────────┴┐┌─┴─┐     └─┬─┘\n",
       "«q_1: ──┼──┤ Rx(-0.13782) ├┤ X ├──■────┼───┤ Rz(-0.69088) ├┤ X ├──■────┼──\n",
       "«       │  ├─────────────┬┘└───┘┌─┴─┐  │  ┌┴──────────────┤└───┘┌─┴─┐  │  \n",
       "«q_2: ──■──┤ Rx(-1.1636) ├──────┤ X ├──■──┤ Rz(-0.021717) ├─────┤ X ├──■──\n",
       "«          └─────────────┘      └───┘     └───────────────┘     └───┘     "
      ]
     },
     "execution_count": 8,
     "metadata": {},
     "output_type": "execute_result"
    }
   ],
   "source": [
    "qc.draw()"
   ]
  },
  {
   "cell_type": "code",
   "execution_count": 9,
   "id": "a86ffe16-b98a-4b0a-97b5-ef245d279288",
   "metadata": {},
   "outputs": [],
   "source": [
    "estimator = Estimator(backend)"
   ]
  },
  {
   "cell_type": "code",
   "execution_count": 10,
   "id": "537c8274-0c8d-4712-9f6e-20dfc512e097",
   "metadata": {},
   "outputs": [],
   "source": [
    "job = estimator.run([qc, qc], observables=[obs, obs], shots=1024)"
   ]
  },
  {
   "cell_type": "code",
   "execution_count": 11,
   "id": "bfdb26ec-ca65-45dd-8c26-81474bdb568a",
   "metadata": {},
   "outputs": [],
   "source": [
    "result = job.result()"
   ]
  },
  {
   "cell_type": "code",
   "execution_count": 12,
   "id": "477d010b-40e0-4dee-add6-de546cf5e9d9",
   "metadata": {},
   "outputs": [
    {
     "data": {
      "text/plain": [
       "EstimatorResult(values=array([0.03515625, 0.046875  ]), metadata=[{'variance': 0.9987640380859375, 'shots': 1024}, {'variance': 0.997802734375, 'shots': 1024}])"
      ]
     },
     "execution_count": 12,
     "metadata": {},
     "output_type": "execute_result"
    }
   ],
   "source": [
    "result"
   ]
  },
  {
   "cell_type": "code",
   "execution_count": null,
   "id": "a68e1962-0545-4868-a3ea-e5c836e927d5",
   "metadata": {},
   "outputs": [],
   "source": []
  }
 ],
 "metadata": {
  "kernelspec": {
   "display_name": "Python 3 (ipykernel)",
   "language": "python",
   "name": "python3"
  },
  "language_info": {
   "codemirror_mode": {
    "name": "ipython",
    "version": 3
   },
   "file_extension": ".py",
   "mimetype": "text/x-python",
   "name": "python",
   "nbconvert_exporter": "python",
   "pygments_lexer": "ipython3",
   "version": "3.11.7"
  }
 },
 "nbformat": 4,
 "nbformat_minor": 5
}
