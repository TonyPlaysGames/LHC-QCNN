{
 "cells": [
  {
   "cell_type": "code",
   "execution_count": 1,
   "id": "e2a26d0e-5435-44f2-8951-32481ee88940",
   "metadata": {},
   "outputs": [],
   "source": [
    "import pennylane as qml\n",
    "from pennylane import numpy as np\n",
    "import json"
   ]
  },
  {
   "cell_type": "code",
   "execution_count": 2,
   "id": "739f809f-d621-4bc0-971e-801a54a9b3ef",
   "metadata": {},
   "outputs": [],
   "source": [
    "n_qubits = 2\n",
    "dev = qml.device(\"ionq.simulator\", wires=n_qubits, shots=1024)"
   ]
  },
  {
   "cell_type": "code",
   "execution_count": 3,
   "id": "c17e14cb-b8ec-44ba-9ab8-60bc49b1bd1a",
   "metadata": {},
   "outputs": [
    {
     "data": {
      "text/plain": [
       "{'input': {'format': 'ionq.circuit.v0',\n",
       "  'qubits': 2,\n",
       "  'circuit': [],\n",
       "  'gateset': 'qis'},\n",
       " 'target': 'simulator',\n",
       " 'shots': 1024}"
      ]
     },
     "execution_count": 3,
     "metadata": {},
     "output_type": "execute_result"
    }
   ],
   "source": [
    "dev.job"
   ]
  },
  {
   "cell_type": "code",
   "execution_count": 4,
   "id": "f3a78f7e-170f-458d-9738-2a2e5ff27ed4",
   "metadata": {},
   "outputs": [],
   "source": [
    "dev.job[\"noise\"]={\"model\":\"harmony\", \"seed\":100}"
   ]
  },
  {
   "cell_type": "code",
   "execution_count": 5,
   "id": "b1405683-e74c-47d0-b97c-25105b7f5600",
   "metadata": {},
   "outputs": [
    {
     "data": {
      "text/plain": [
       "{'input': {'format': 'ionq.circuit.v0',\n",
       "  'qubits': 2,\n",
       "  'circuit': [],\n",
       "  'gateset': 'qis'},\n",
       " 'target': 'simulator',\n",
       " 'shots': 1024,\n",
       " 'noise': {'model': 'harmony', 'seed': 100}}"
      ]
     },
     "execution_count": 5,
     "metadata": {},
     "output_type": "execute_result"
    }
   ],
   "source": [
    "dev.job"
   ]
  },
  {
   "cell_type": "code",
   "execution_count": 6,
   "id": "da7c655f-31be-4859-8f06-cd7a8565e3e8",
   "metadata": {},
   "outputs": [
    {
     "data": {
      "text/plain": [
       "'{\"input\": {\"format\": \"ionq.circuit.v0\", \"qubits\": 2, \"circuit\": [], \"gateset\": \"qis\"}, \"target\": \"simulator\", \"shots\": 1024, \"noise\": {\"model\": \"harmony\", \"seed\": 100}}'"
      ]
     },
     "execution_count": 6,
     "metadata": {},
     "output_type": "execute_result"
    }
   ],
   "source": [
    "json.dumps(dev.job)"
   ]
  },
  {
   "cell_type": "code",
   "execution_count": 7,
   "id": "1ad93976-6d8f-4b25-bb1a-c05d19850953",
   "metadata": {},
   "outputs": [],
   "source": [
    "# @qml.qnode(dev)\n",
    "def qnode():\n",
    "    qml.Hadamard(wires=1)\n",
    "    return qml.counts()"
   ]
  },
  {
   "cell_type": "code",
   "execution_count": 8,
   "id": "fb03f3b8-71f4-449c-8716-5b154c1bc63d",
   "metadata": {},
   "outputs": [
    {
     "data": {
      "text/plain": [
       "{'input': {'format': 'ionq.circuit.v0',\n",
       "  'qubits': 2,\n",
       "  'circuit': [],\n",
       "  'gateset': 'qis'},\n",
       " 'target': 'simulator',\n",
       " 'shots': 1024,\n",
       " 'noise': {'model': 'harmony', 'seed': 100}}"
      ]
     },
     "execution_count": 8,
     "metadata": {},
     "output_type": "execute_result"
    }
   ],
   "source": [
    "dev.job"
   ]
  },
  {
   "cell_type": "code",
   "execution_count": 9,
   "id": "ab5183d6-63ac-45a4-8dea-907a2be82ee4",
   "metadata": {},
   "outputs": [],
   "source": [
    "model = qml.QNode(qnode, dev)"
   ]
  },
  {
   "cell_type": "code",
   "execution_count": 10,
   "id": "ae663bea-ab84-4262-8992-495e1cbb1a5d",
   "metadata": {},
   "outputs": [
    {
     "data": {
      "text/plain": [
       "{'input': {'format': 'ionq.circuit.v0',\n",
       "  'qubits': 2,\n",
       "  'circuit': [],\n",
       "  'gateset': 'qis'},\n",
       " 'target': 'simulator',\n",
       " 'shots': 1024,\n",
       " 'noise': {'model': 'harmony', 'seed': 100}}"
      ]
     },
     "execution_count": 10,
     "metadata": {},
     "output_type": "execute_result"
    }
   ],
   "source": [
    "dev.job"
   ]
  },
  {
   "cell_type": "code",
   "execution_count": 11,
   "id": "76e2662f-da45-43ea-9df2-29ba9333408a",
   "metadata": {},
   "outputs": [
    {
     "data": {
      "text/plain": [
       "{'00': tensor(500, requires_grad=True), '01': tensor(524, requires_grad=True)}"
      ]
     },
     "execution_count": 11,
     "metadata": {},
     "output_type": "execute_result"
    }
   ],
   "source": [
    "model()"
   ]
  },
  {
   "cell_type": "code",
   "execution_count": 12,
   "id": "1dc8ea16-5e04-465a-a5e2-bbfd905a62b3",
   "metadata": {},
   "outputs": [
    {
     "data": {
      "text/plain": [
       "{'input': {'format': 'ionq.circuit.v0',\n",
       "  'qubits': 2,\n",
       "  'circuit': [{'gate': 'h', 'target': 1}],\n",
       "  'gateset': 'qis'},\n",
       " 'target': 'simulator',\n",
       " 'shots': 1024}"
      ]
     },
     "execution_count": 12,
     "metadata": {},
     "output_type": "execute_result"
    }
   ],
   "source": [
    "dev.job"
   ]
  },
  {
   "cell_type": "code",
   "execution_count": 13,
   "id": "60bd4b00-60a5-4c61-98b8-498d20af4a64",
   "metadata": {},
   "outputs": [],
   "source": [
    "dev._submit_job()"
   ]
  },
  {
   "cell_type": "code",
   "execution_count": 14,
   "id": "2e692b56-8a06-474e-9f63-dcddb6cb28c5",
   "metadata": {},
   "outputs": [],
   "source": [
    "dev.job[\"noise\"]={\"model\":\"harmony\", \"seed\":100}"
   ]
  },
  {
   "cell_type": "code",
   "execution_count": 15,
   "id": "713911c4-cf8e-4065-8910-faaa861a5ffe",
   "metadata": {},
   "outputs": [
    {
     "data": {
      "text/plain": [
       "{'input': {'format': 'ionq.circuit.v0',\n",
       "  'qubits': 2,\n",
       "  'circuit': [{'gate': 'h', 'target': 1}],\n",
       "  'gateset': 'qis'},\n",
       " 'target': 'simulator',\n",
       " 'shots': 1024,\n",
       " 'noise': {'model': 'harmony', 'seed': 100}}"
      ]
     },
     "execution_count": 15,
     "metadata": {},
     "output_type": "execute_result"
    }
   ],
   "source": [
    "dev.job"
   ]
  },
  {
   "cell_type": "code",
   "execution_count": 16,
   "id": "747dfee2-d909-4446-ad66-33a1b1b81f51",
   "metadata": {},
   "outputs": [],
   "source": [
    "dev._submit_job()"
   ]
  },
  {
   "cell_type": "code",
   "execution_count": null,
   "id": "3a894e20-710f-4fe1-b7dc-2a9c12660b53",
   "metadata": {},
   "outputs": [],
   "source": []
  }
 ],
 "metadata": {
  "kernelspec": {
   "display_name": "Python 3 (ipykernel)",
   "language": "python",
   "name": "python3"
  },
  "language_info": {
   "codemirror_mode": {
    "name": "ipython",
    "version": 3
   },
   "file_extension": ".py",
   "mimetype": "text/x-python",
   "name": "python",
   "nbconvert_exporter": "python",
   "pygments_lexer": "ipython3",
   "version": "3.11.7"
  }
 },
 "nbformat": 4,
 "nbformat_minor": 5
}
