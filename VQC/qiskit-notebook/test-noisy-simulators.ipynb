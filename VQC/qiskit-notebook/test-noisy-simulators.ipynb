{
 "cells": [
  {
   "cell_type": "code",
   "execution_count": 1,
   "id": "c0000019-bdd8-40d3-8990-30bcd13fbaa0",
   "metadata": {},
   "outputs": [],
   "source": [
    "import numpy as np\n",
    "\n",
    "import qiskit\n",
    "from qiskit import QuantumCircuit\n",
    "from qiskit_aer import AerSimulator\n",
    "from qiskit_aer.noise import NoiseModel\n",
    "from qiskit_ibm_provider import IBMProvider\n",
    "from qiskit_ionq import IonQProvider\n",
    "from qiskit_aer.primitives import Sampler, Estimator"
   ]
  },
  {
   "cell_type": "code",
   "execution_count": 2,
   "id": "162131f9-7129-4e6d-9a03-12c89d034917",
   "metadata": {},
   "outputs": [],
   "source": [
    "ideal_simulator = AerSimulator()\n",
    "\n",
    "ibm_provider = IBMProvider()\n",
    "noise_model = NoiseModel.from_backend(ibm_provider.get_backend('ibm_brisbane'))\n",
    "ibm_noisy_simulator = AerSimulator(method='density_matrix', noise_model=noise_model)\n",
    "\n",
    "noise_model_kyoto = NoiseModel.from_backend(ibm_provider.get_backend('ibm_kyoto'))\n",
    "ibm_kyoto_simulator = AerSimulator(method='density_matrix', noise_model=noise_model_kyoto)\n",
    "\n",
    "ionq_provider = IonQProvider()\n",
    "ionq_simulator = ionq_provider.get_backend(\"ionq_simulator\")\n",
    "ionq_simulator.set_options(noise_model=\"harmony\") "
   ]
  },
  {
   "cell_type": "code",
   "execution_count": 3,
   "id": "f90ed99f-8fa5-462c-8918-0dd8cb0c1a42",
   "metadata": {},
   "outputs": [],
   "source": [
    "# Create a basic Bell State circuit:\n",
    "qc = QuantumCircuit(2)\n",
    "qc.h(0)\n",
    "qc.cx(0, 1)\n",
    "qc.measure_all()"
   ]
  },
  {
   "cell_type": "code",
   "execution_count": 4,
   "id": "dc0e3ec0-8386-41ea-b0fc-39f6ecf72964",
   "metadata": {},
   "outputs": [
    {
     "name": "stdout",
     "output_type": "stream",
     "text": [
      "{'00': 531, '11': 493}\n"
     ]
    }
   ],
   "source": [
    "\n",
    "job = ideal_simulator.run(qc, shots=1024) \n",
    "print(job.result().get_counts())"
   ]
  },
  {
   "cell_type": "code",
   "execution_count": 5,
   "id": "aacfeaec-c553-4068-a1d9-42bf0b144a40",
   "metadata": {},
   "outputs": [
    {
     "name": "stdout",
     "output_type": "stream",
     "text": [
      "{'01': 25, '10': 27, '00': 470, '11': 502}\n"
     ]
    }
   ],
   "source": [
    "\n",
    "job = ibm_noisy_simulator.run(qc, shots=1024) \n",
    "print(job.result().get_counts())"
   ]
  },
  {
   "cell_type": "code",
   "execution_count": 6,
   "id": "a62a9406-973e-4dd1-95ac-8e5ca3de09ea",
   "metadata": {},
   "outputs": [
    {
     "name": "stdout",
     "output_type": "stream",
     "text": [
      "{'01': 107, '11': 409, '10': 110, '00': 398}\n"
     ]
    }
   ],
   "source": [
    "\n",
    "job = ibm_kyoto_simulator.run(qc, shots=1024) \n",
    "print(job.result().get_counts())"
   ]
  },
  {
   "cell_type": "code",
   "execution_count": 7,
   "id": "d870c6c8-1d26-4e55-857c-886789eac056",
   "metadata": {},
   "outputs": [
    {
     "name": "stdout",
     "output_type": "stream",
     "text": [
      "{'00': 469, '01': 42, '10': 27, '11': 486}\n"
     ]
    }
   ],
   "source": [
    "job = ionq_simulator.run(qc, shots=1024) \n",
    "print(job.result().get_counts())"
   ]
  },
  {
   "cell_type": "code",
   "execution_count": 8,
   "id": "b26892ca-cdb3-45a2-a9d2-058a71e625b8",
   "metadata": {},
   "outputs": [],
   "source": [
    "ideal_sampler = Sampler()"
   ]
  },
  {
   "cell_type": "code",
   "execution_count": 9,
   "id": "f45a7e80-3fa1-4832-bbbe-8e6d07a76aa9",
   "metadata": {},
   "outputs": [
    {
     "name": "stdout",
     "output_type": "stream",
     "text": [
      "[{3: 0.478515625, 0: 0.521484375}]\n"
     ]
    }
   ],
   "source": [
    "job = ideal_sampler.run(qc)\n",
    "print(job.result().quasi_dists)"
   ]
  },
  {
   "cell_type": "code",
   "execution_count": 10,
   "id": "84c14cad-0e45-488d-9a10-6bd2bd3a4ca0",
   "metadata": {},
   "outputs": [],
   "source": [
    "noisy_sampler = Sampler(backend_options={\"noise_model\": noise_model})"
   ]
  },
  {
   "cell_type": "code",
   "execution_count": 11,
   "id": "8d2b253d-04a9-49fd-b63a-d5c651c2c8eb",
   "metadata": {},
   "outputs": [
    {
     "name": "stdout",
     "output_type": "stream",
     "text": [
      "[{1: 0.0302734375, 2: 0.0166015625, 0: 0.5, 3: 0.453125}]\n"
     ]
    }
   ],
   "source": [
    "job = noisy_sampler.run(qc)\n",
    "print(job.result().quasi_dists)"
   ]
  },
  {
   "cell_type": "code",
   "execution_count": 12,
   "id": "809d2e98-ca9a-4ad7-9b92-ebcf45d2eb08",
   "metadata": {},
   "outputs": [],
   "source": [
    "obs = qiskit.quantum_info.SparsePauliOp('ZZ')"
   ]
  },
  {
   "cell_type": "code",
   "execution_count": 13,
   "id": "89fdd4ef-f13e-4aa1-a50f-2db49452d94d",
   "metadata": {},
   "outputs": [
    {
     "name": "stdout",
     "output_type": "stream",
     "text": [
      "EstimatorResult(values=array([1.]), metadata=[{'shots': 1024, 'variance': 0.0, 'simulator_metadata': [{'time_taken': 0.000904181, 'num_bind_params': 1, 'parallel_state_update': 16, 'parallel_shots': 1, 'required_memory_mb': 0, 'input_qubit_map': [[1, 1], [0, 0]], 'method': 'stabilizer', 'device': 'CPU', 'num_qubits': 2, 'sample_measure_time': 0.000263048, 'active_input_qubits': [0, 1], 'num_clbits': 2, 'remapped_qubits': False, 'runtime_parameter_bind': False, 'max_memory_mb': 32004, 'noise': 'ideal', 'measure_sampling': True, 'batched_shots_optimization': False, 'fusion': {'enabled': False}}]}])\n"
     ]
    }
   ],
   "source": [
    "ideal_estimator = Estimator()\n",
    "job = ideal_estimator.run(qc, obs)\n",
    "print(job.result())"
   ]
  },
  {
   "cell_type": "code",
   "execution_count": 14,
   "id": "5f95818b-cacb-4a37-8699-bf95e4cacc5f",
   "metadata": {},
   "outputs": [
    {
     "name": "stdout",
     "output_type": "stream",
     "text": [
      "EstimatorResult(values=array([0.8828125]), metadata=[{'shots': 1024, 'variance': 0.22064208984375, 'simulator_metadata': [{'time_taken': 0.001700787, 'num_bind_params': 1, 'parallel_state_update': 16, 'parallel_shots': 1, 'required_memory_mb': 1, 'input_qubit_map': [[1, 1], [0, 0]], 'method': 'density_matrix', 'device': 'CPU', 'num_qubits': 2, 'sample_measure_time': 0.000134114, 'active_input_qubits': [0, 1], 'num_clbits': 2, 'remapped_qubits': False, 'runtime_parameter_bind': False, 'max_memory_mb': 32004, 'noise': 'superop', 'measure_sampling': True, 'batched_shots_optimization': False, 'fusion': {'applied': False, 'max_fused_qubits': 2, 'threshold': 7, 'enabled': True}}]}])\n"
     ]
    }
   ],
   "source": [
    "noisy_estimator = Estimator(backend_options={\"noise_model\": noise_model})\n",
    "job = noisy_estimator.run(qc, obs)\n",
    "print(job.result())"
   ]
  },
  {
   "cell_type": "code",
   "execution_count": 15,
   "id": "2ea9f04c-7a1e-4291-9d2c-41d0c4541a11",
   "metadata": {},
   "outputs": [
    {
     "name": "stdout",
     "output_type": "stream",
     "text": [
      "EstimatorResult(values=array([0.515625]), metadata=[{'shots': 1024, 'variance': 0.734130859375, 'simulator_metadata': [{'time_taken': 0.001768856, 'num_bind_params': 1, 'parallel_state_update': 16, 'parallel_shots': 1, 'required_memory_mb': 1, 'input_qubit_map': [[1, 1], [0, 0]], 'method': 'density_matrix', 'device': 'CPU', 'num_qubits': 2, 'sample_measure_time': 0.000134033, 'active_input_qubits': [0, 1], 'num_clbits': 2, 'remapped_qubits': False, 'runtime_parameter_bind': False, 'max_memory_mb': 32004, 'noise': 'superop', 'measure_sampling': True, 'batched_shots_optimization': False, 'fusion': {'applied': False, 'max_fused_qubits': 2, 'threshold': 7, 'enabled': True}}]}])\n"
     ]
    }
   ],
   "source": [
    "noisy_estimator = Estimator(backend_options={\"noise_model\": noise_model_kyoto})\n",
    "job = noisy_estimator.run(qc, obs)\n",
    "print(job.result())"
   ]
  },
  {
   "cell_type": "code",
   "execution_count": null,
   "id": "46408cd8-9564-4eba-a1a6-ab2880260ab8",
   "metadata": {},
   "outputs": [],
   "source": []
  }
 ],
 "metadata": {
  "kernelspec": {
   "display_name": "Python 3 (ipykernel)",
   "language": "python",
   "name": "python3"
  },
  "language_info": {
   "codemirror_mode": {
    "name": "ipython",
    "version": 3
   },
   "file_extension": ".py",
   "mimetype": "text/x-python",
   "name": "python",
   "nbconvert_exporter": "python",
   "pygments_lexer": "ipython3",
   "version": "3.11.7"
  }
 },
 "nbformat": 4,
 "nbformat_minor": 5
}
