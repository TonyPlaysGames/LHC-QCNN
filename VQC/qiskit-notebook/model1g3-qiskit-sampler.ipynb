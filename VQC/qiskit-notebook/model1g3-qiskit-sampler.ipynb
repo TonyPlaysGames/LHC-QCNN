{
 "cells": [
  {
   "cell_type": "code",
   "execution_count": 1,
   "id": "ae6899f1-0e9c-4740-ba94-2e8ccb08a4dd",
   "metadata": {},
   "outputs": [],
   "source": [
    "import numpy as np\n",
    "\n",
    "import qiskit\n",
    "from qiskit import QuantumCircuit\n",
    "from qiskit_aer.primitives import Sampler\n",
    "from qiskit.circuit import ParameterVector\n",
    "from qiskit.quantum_info import SparsePauliOp\n",
    "\n",
    "from sklearn.model_selection import train_test_split\n",
    "import time\n",
    "from matplotlib import pyplot as plt\n",
    "from sklearn.metrics import confusion_matrix\n",
    "from sklearn.metrics import ConfusionMatrixDisplay\n",
    "\n",
    "import os\n",
    "\n",
    "\n",
    "import LHC_QML_module as lqm"
   ]
  },
  {
   "cell_type": "code",
   "execution_count": 2,
   "id": "81f8b458-3b64-49f4-a2ac-9ac3db9b4844",
   "metadata": {},
   "outputs": [],
   "source": [
    "# settings to tune\n",
    "\n",
    "seed = 125\n",
    "# Features to train on\n",
    "training_feature_keys = [\n",
    "    \"f_mass4l\",\n",
    "    # \"f_eta4l\",\n",
    "    \"f_Z2mass\",\n",
    "    \"f_Z1mass\",\n",
    "]\n",
    "\n",
    "save_folder = os.path.join(\"saved\", \"model1g3-qiskit-sampler\")\n",
    "\n",
    "batch_size = 2\n",
    "n_epochs = 1\n",
    "\n",
    "train_data_size = 80\n",
    "test_data_size = 80\n",
    "valid_data_size = 40\n",
    "total_datasize = train_data_size + test_data_size + valid_data_size\n",
    "half_datasize = total_datasize // 2 # 80 signal and 80 backgrounds\n",
    "# opt = NesterovMomentumOptimizer(0.1)\n",
    "# opt = SPSAOptimizer(maxiter=200)\n",
    "\n",
    "is_local_simulator = True\n",
    "\n",
    "spsa_alpha = 0.2\n",
    "spsa_gamma = 0.101\n",
    "spsa_c     = 0.3\n",
    "spsa_A     = 2.\n",
    "spsa_a1    = 0.3\n",
    "spsa_a     = spsa_a1 * (spsa_A + 1) ** spsa_alpha"
   ]
  },
  {
   "cell_type": "code",
   "execution_count": 3,
   "id": "e12e08af-23ea-425b-9c3a-9215e868f7ff",
   "metadata": {},
   "outputs": [
    {
     "name": "stdout",
     "output_type": "stream",
     "text": [
      "This notebook may overwrite previous results in the saved/model1g3-qiskit-sampler directory\n"
     ]
    }
   ],
   "source": [
    "np.random.seed(seed)\n",
    "\n",
    "if os.path.exists(save_folder):\n",
    "    print(f\"This notebook may overwrite previous results in the {save_folder} directory\")\n",
    "else:\n",
    "    os.makedirs(save_folder)"
   ]
  },
  {
   "cell_type": "code",
   "execution_count": 4,
   "id": "6a7add6d-ee25-4a8d-b972-48f2f4b8e186",
   "metadata": {},
   "outputs": [],
   "source": [
    "n_qubits = 3\n",
    "num_layers = 5\n",
    "\n",
    "# weights_init = 0.5 * np.random.randn(num_layers, n_qubits, requires_grad=True)\n",
    "weights_init = 0.5 * np.random.randn(num_layers, n_qubits)\n",
    "weights_init = weights_init.flatten()"
   ]
  },
  {
   "cell_type": "code",
   "execution_count": 5,
   "id": "2e273608-93d3-455d-b1da-63aeb4433776",
   "metadata": {},
   "outputs": [],
   "source": [
    "qc_template = QuantumCircuit(n_qubits)\n",
    "\n",
    "par_inputs = ParameterVector(\"input\", n_qubits)\n",
    "par_weights = ParameterVector(\"weights\", num_layers * n_qubits)\n",
    "\n",
    "for i in range(n_qubits):\n",
    "    qc_template.rx(par_inputs[i], i)\n",
    "\n",
    "for i in range(n_qubits):\n",
    "    qc_template.ry(par_weights[i], i)\n",
    "\n",
    "for i in range(n_qubits):\n",
    "    qc_template.cx(i, (i+1)%n_qubits)\n",
    "\n",
    "for i in range(n_qubits):\n",
    "    qc_template.rz(par_weights[i+3], i)\n",
    "\n",
    "for i in range(n_qubits):\n",
    "    qc_template.cx(i, (i+1)%n_qubits)\n",
    "\n",
    "for i in range(n_qubits):\n",
    "    qc_template.rx(par_weights[i+6], i)\n",
    "\n",
    "for i in range(n_qubits):\n",
    "    qc_template.cx(i, (i+1)%n_qubits)\n",
    "\n",
    "for i in range(n_qubits):\n",
    "    qc_template.rz(par_weights[i+9], i)\n",
    "\n",
    "for i in range(n_qubits):\n",
    "    qc_template.cx(i, (i+1)%n_qubits)\n",
    "\n",
    "for i in range(n_qubits):\n",
    "    qc_template.rz(par_weights[i+12], i)\n",
    "\n",
    "for i in range(n_qubits):\n",
    "    qc_template.cx(i, (i+1)%n_qubits)\n",
    "\n",
    "\n",
    "qc_template.measure_all()"
   ]
  },
  {
   "cell_type": "code",
   "execution_count": 6,
   "id": "70e200b3-dcd5-4066-a37a-0cdbf986db84",
   "metadata": {},
   "outputs": [],
   "source": [
    "def interpret_signal(result: int):\n",
    "    a = result % 4\n",
    "    if a == 0 or a == 3:\n",
    "        return True\n",
    "    return False\n",
    "\n",
    "def interpret_result_dict(dic):\n",
    "    probs = 0\n",
    "\n",
    "    for k in dic.keys():\n",
    "        if interpret_signal(k):\n",
    "            probs += dic[k]\n",
    "\n",
    "    return probs"
   ]
  },
  {
   "cell_type": "code",
   "execution_count": 7,
   "id": "a5053c1c-1f70-4c1f-b843-6ba7e5ab0652",
   "metadata": {},
   "outputs": [],
   "source": [
    "def loss(prob, label):\n",
    "    # print(prob)\n",
    "    return -np.mean(label*np.log(prob+1e-5)+(1-label)*np.log(1-prob+1e-5))\n",
    "\n",
    "def accuracy(pred, label):\n",
    "    return np.mean(np.isclose(pred,label))\n",
    "\n",
    "def cost(weights, features, labels):\n",
    "    probs = np.array([model(weights, f) for f in features])\n",
    "    return loss(probs, labels)"
   ]
  },
  {
   "cell_type": "code",
   "execution_count": 8,
   "id": "b181e3ba-8133-47f7-b60a-8783e55dee37",
   "metadata": {},
   "outputs": [
    {
     "name": "stdout",
     "output_type": "stream",
     "text": [
      "\n",
      "signal data from:\n",
      "data/signal/4e/4e_1-output_GluGluToHToZZTo4L_M-125_8TeV-powheg15-pythia6.root\n",
      "\n",
      "background data from:\n",
      "data/background/4e/4e_1-output_GluGluToZZTo4L_8TeV-gg2zz-pythia6.root\n",
      "\n",
      "data loaded\n",
      "\n",
      "# of signal events: 7057\n",
      "# of background events: 21500\n",
      "\n",
      "data formatted\n",
      "data preprocessed\n",
      "\n"
     ]
    }
   ],
   "source": [
    "signals_folder = \"./data/signal/4e\"\n",
    "backgrounds_folder = \"./data/background/4e\"\n",
    "\n",
    "\n",
    "use_pca = False\n",
    "\n",
    "\n",
    "\n",
    "num_features = len(training_feature_keys)\n",
    "\n",
    "\n",
    "# load data from files\n",
    "signal_dict, background_dict, files_used = lqm.load_data(\n",
    "    signals_folder, backgrounds_folder, training_feature_keys\n",
    ")\n",
    "\n",
    "# formats data for input into vqc\n",
    "features, labels = lqm.format_data(signal_dict, background_dict)\n",
    "\n",
    "\n",
    "n_signal_events = (labels == 1).sum()\n",
    "n_background_events = (labels == 0).sum()\n",
    "\n",
    "features_signal = features[(labels==1)]\n",
    "features_background = features[(labels==0)]\n",
    "\n",
    "np.random.shuffle(features_signal)\n",
    "np.random.shuffle(features_background)\n",
    "\n",
    "features = np.concatenate((features_signal[:half_datasize], features_background[:half_datasize]))\n",
    "# labels = np.array([1]*half_datasize + [0]*half_datasize, requires_grad=False)\n",
    "labels = np.array([1]*half_datasize + [0]*half_datasize)\n",
    "\n",
    "# splits data into testing and training sets\n",
    "train_features, rest_features, train_labels, rest_labels = train_test_split(\n",
    "    features,\n",
    "    labels,\n",
    "    train_size=train_data_size,\n",
    "    test_size=test_data_size + valid_data_size,\n",
    "    random_state=seed,\n",
    "    stratify=labels\n",
    ")\n",
    "\n",
    "# preprocess data (rescaling)\n",
    "train_features, rest_features = lqm.preprocess_data(\n",
    "    train_features, rest_features, use_pca, num_features, seed\n",
    ")\n",
    "\n",
    "\n",
    "valid_features, test_features, valid_labels, test_labels = train_test_split(\n",
    "    rest_features,\n",
    "    rest_labels,\n",
    "    train_size=valid_data_size,\n",
    "    test_size = test_data_size,\n",
    "    random_state=seed,\n",
    "    stratify=rest_labels\n",
    ")"
   ]
  },
  {
   "cell_type": "code",
   "execution_count": 9,
   "id": "63119d71-56e2-4065-b85f-1d5731dff1f3",
   "metadata": {},
   "outputs": [],
   "source": [
    "sampler = Sampler(run_options={\"shots\":1024})"
   ]
  },
  {
   "cell_type": "code",
   "execution_count": 10,
   "id": "4b4a02e5-83b6-4f26-8174-7e0a0d1ffbba",
   "metadata": {},
   "outputs": [],
   "source": [
    "def feed_forward(sampler, qc_template, train_feature, weights):\n",
    "    qc = qc_template.assign_parameters({par_inputs:train_feature, par_weights:weights})\n",
    "\n",
    "    job = sampler.run(qc, shots=1024)\n",
    "    result = job.result()\n",
    "    result_dict = result.quasi_dist[0]\n",
    "    probs = interpret_result_dict(result_dict)\n",
    "    return probs\n",
    "\n",
    "def feed_forward_batch(sampler, qc_template, feature_batch, weights_batch):\n",
    "    qc_list = [qc_template.assign_parameters({par_inputs:f, par_weights:w}) for f, w in zip(feature_batch, weights_batch)]\n",
    "    job = sampler.run(qc_list, shots=1024)\n",
    "    result = job.result()\n",
    "    result_dicts = result.quasi_dists\n",
    "    probs = np.array([interpret_result_dict(dic) for dic in result_dicts])\n",
    "    return probs"
   ]
  },
  {
   "cell_type": "code",
   "execution_count": 11,
   "id": "56d76e56-a71a-44b5-b516-74db5a7a02b7",
   "metadata": {},
   "outputs": [
    {
     "name": "stdout",
     "output_type": "stream",
     "text": [
      "Epoch:    1 | Iter:    1/40 | Time: 0.51 | Cost val: 0.763 | Acc val:  0.500\n",
      "Epoch:    1 | Iter:    2/40 | Time: 0.65 | Cost val: 0.766 | Acc val:  0.500\n",
      "Epoch:    1 | Iter:    3/40 | Time: 0.27 | Cost val: 0.768 | Acc val:  0.500\n",
      "Epoch:    1 | Iter:    4/40 | Time: 0.29 | Cost val: 0.770 | Acc val:  0.500\n",
      "Epoch:    1 | Iter:    5/40 | Time: 0.44 | Cost val: 0.773 | Acc val:  0.500\n",
      "Epoch:    1 | Iter:    6/40 | Time: 0.44 | Cost val: 0.769 | Acc val:  0.500\n",
      "Epoch:    1 | Iter:    7/40 | Time: 0.28 | Cost val: 0.768 | Acc val:  0.500\n",
      "Epoch:    1 | Iter:    8/40 | Time: 0.28 | Cost val: 0.777 | Acc val:  0.500\n",
      "Epoch:    1 | Iter:    9/40 | Time: 0.27 | Cost val: 0.775 | Acc val:  0.500\n",
      "Epoch:    1 | Iter:   10/40 | Time: 0.48 | Cost val: 0.770 | Acc val:  0.500\n",
      "Epoch:    1 | Iter:   11/40 | Time: 0.45 | Cost val: 0.755 | Acc val:  0.500\n",
      "Epoch:    1 | Iter:   12/40 | Time: 0.32 | Cost val: 0.772 | Acc val:  0.500\n",
      "Epoch:    1 | Iter:   13/40 | Time: 0.33 | Cost val: 0.769 | Acc val:  0.500\n",
      "Epoch:    1 | Iter:   14/40 | Time: 0.32 | Cost val: 0.778 | Acc val:  0.500\n",
      "Epoch:    1 | Iter:   15/40 | Time: 0.28 | Cost val: 0.773 | Acc val:  0.500\n",
      "Epoch:    1 | Iter:   16/40 | Time: 0.43 | Cost val: 0.772 | Acc val:  0.500\n",
      "Epoch:    1 | Iter:   17/40 | Time: 0.29 | Cost val: 0.758 | Acc val:  0.500\n",
      "Epoch:    1 | Iter:   18/40 | Time: 0.34 | Cost val: 0.763 | Acc val:  0.500\n",
      "Epoch:    1 | Iter:   19/40 | Time: 0.31 | Cost val: 0.760 | Acc val:  0.500\n",
      "Epoch:    1 | Iter:   20/40 | Time: 0.47 | Cost val: 0.760 | Acc val:  0.500\n",
      "Epoch:    1 | Iter:   21/40 | Time: 0.42 | Cost val: 0.779 | Acc val:  0.500\n",
      "Epoch:    1 | Iter:   22/40 | Time: 0.38 | Cost val: 0.781 | Acc val:  0.500\n",
      "Epoch:    1 | Iter:   23/40 | Time: 0.32 | Cost val: 0.771 | Acc val:  0.500\n",
      "Epoch:    1 | Iter:   24/40 | Time: 0.29 | Cost val: 0.758 | Acc val:  0.500\n",
      "Epoch:    1 | Iter:   25/40 | Time: 0.33 | Cost val: 0.756 | Acc val:  0.500\n",
      "Epoch:    1 | Iter:   26/40 | Time: 0.40 | Cost val: 0.765 | Acc val:  0.500\n",
      "Epoch:    1 | Iter:   27/40 | Time: 0.29 | Cost val: 0.765 | Acc val:  0.500\n",
      "Epoch:    1 | Iter:   28/40 | Time: 0.31 | Cost val: 0.768 | Acc val:  0.500\n",
      "Epoch:    1 | Iter:   29/40 | Time: 0.31 | Cost val: 0.765 | Acc val:  0.500\n",
      "Epoch:    1 | Iter:   30/40 | Time: 0.29 | Cost val: 0.766 | Acc val:  0.500\n",
      "Epoch:    1 | Iter:   31/40 | Time: 0.47 | Cost val: 0.753 | Acc val:  0.500\n",
      "Epoch:    1 | Iter:   32/40 | Time: 0.42 | Cost val: 0.765 | Acc val:  0.500\n",
      "Epoch:    1 | Iter:   33/40 | Time: 0.31 | Cost val: 0.773 | Acc val:  0.500\n",
      "Epoch:    1 | Iter:   34/40 | Time: 0.35 | Cost val: 0.771 | Acc val:  0.500\n",
      "Epoch:    1 | Iter:   35/40 | Time: 0.30 | Cost val: 0.765 | Acc val:  0.500\n",
      "Epoch:    1 | Iter:   36/40 | Time: 0.28 | Cost val: 0.770 | Acc val:  0.500\n",
      "Epoch:    1 | Iter:   37/40 | Time: 0.40 | Cost val: 0.755 | Acc val:  0.500\n",
      "Epoch:    1 | Iter:   38/40 | Time: 0.28 | Cost val: 0.781 | Acc val:  0.500\n",
      "Epoch:    1 | Iter:   39/40 | Time: 0.35 | Cost val: 0.764 | Acc val:  0.500\n",
      "Epoch:    1 | Iter:   40/40 | Time: 0.31 | Cost val: 0.775 | Acc val:  0.500\n"
     ]
    }
   ],
   "source": [
    "num_train=train_features.shape[0]\n",
    "weights = weights_init\n",
    "n_batches = num_train // batch_size\n",
    "\n",
    "\n",
    "# losses = []\n",
    "times = []\n",
    "losses_valid = []\n",
    "\n",
    "start = time.time()\n",
    "times.append(start)\n",
    "\n",
    "spsa_k = 0\n",
    "\n",
    "# estimator = Estimator()\n",
    "# sampler = Sampler()\n",
    "\n",
    "for i in range(n_epochs):\n",
    "    indices = list(range(num_train))\n",
    "    np.random.shuffle(indices)\n",
    "    \n",
    "    for j in range(n_batches):\n",
    "        # Update the weights by one optimizer step\n",
    "        batch_index = indices[j*batch_size:(j+1)*batch_size]\n",
    "        # batch_index = np.random.randint(0, num_train, (batch_size,))\n",
    "        train_features_batch = train_features[batch_index]\n",
    "        train_labels_batch = train_labels[batch_index]\n",
    "\n",
    "        spsa_k += 1\n",
    "\n",
    "        spsa_ck = spsa_c / spsa_k ** spsa_gamma\n",
    "        weights_deltas = np.random.choice([-1, 1], size = weights.shape) * spsa_ck\n",
    "        weights_plus = weights + weights_deltas\n",
    "        weights_minus = weights - weights_deltas\n",
    "\n",
    "        weights_list = [weights_plus] * batch_size + [weights_minus] * batch_size\n",
    "        \n",
    "        probs_all = feed_forward_batch(sampler, qc_template, train_features_batch, weights_list)\n",
    "\n",
    "        probs_plus = probs_all[:batch_size]\n",
    "        probs_minus = probs_all[-batch_size:]\n",
    "\n",
    "        loss_plus = loss(probs_plus, train_labels_batch)\n",
    "        loss_minus = loss(probs_minus, train_labels_batch)\n",
    "\n",
    "        grad = (loss_plus - loss_minus) /2 / weights_deltas\n",
    "\n",
    "        spsa_ak = spsa_a / (spsa_A + spsa_k) ** spsa_alpha\n",
    "\n",
    "        weights -= spsa_ak * grad\n",
    "\n",
    "        np.savez(os.path.join(save_folder, f\"weights_{i}_{j}\"), weights=weights)\n",
    "\n",
    "        times.append(time.time())\n",
    "        delta_t = times[-1]-times[-2]\n",
    "\n",
    "        if is_local_simulator: # would be too costly on a real qpu\n",
    "            weights_list = [weights] * len(valid_labels)\n",
    "            probs_valid = feed_forward_batch(sampler, qc_template, valid_features, weights_list)\n",
    "            predictions_val = np.round(probs_valid)\n",
    "            acc_valid = accuracy(valid_labels, predictions_val)\n",
    "            cost_valid = loss(probs_valid, valid_labels)\n",
    "\n",
    "            losses_valid.append(cost_valid)\n",
    "    \n",
    "        message = f\"Epoch: {i+1:4d} | Iter: {j+1:4d}/{n_batches} | Time: {delta_t:0.2f} |\" \n",
    "        if is_local_simulator:\n",
    "            message += f\" Cost val: {cost_valid:0.3f} | Acc val:  {acc_valid:0.3f}\"\n",
    "        print(message)\n"
   ]
  },
  {
   "cell_type": "code",
   "execution_count": 12,
   "id": "b5820f9e-a9d8-40da-a1e9-ee0632d3dc08",
   "metadata": {},
   "outputs": [
    {
     "name": "stdout",
     "output_type": "stream",
     "text": [
      "Training time: 14 seconds\n",
      "\n"
     ]
    }
   ],
   "source": [
    "elapsed = time.time() - start\n",
    "\n",
    "print(f\"Training time: {round(elapsed)} seconds\\n\")"
   ]
  },
  {
   "cell_type": "code",
   "execution_count": 13,
   "id": "0c811b56-6727-433e-abd2-2909fb52f05f",
   "metadata": {},
   "outputs": [
    {
     "name": "stdout",
     "output_type": "stream",
     "text": [
      "Testing time: 1 seconds\n",
      "\n",
      "Test accuracy is 0.5\n"
     ]
    }
   ],
   "source": [
    "start = time.time()\n",
    "\n",
    "weights_list = [weights] * len(test_labels)\n",
    "probs_test = feed_forward_batch(sampler, qc_template, test_features, weights_list)\n",
    "preds_test = np.round(probs_test)\n",
    "\n",
    "elapsed = time.time() - start\n",
    "print(f\"Testing time: {round(elapsed)} seconds\\n\")\n",
    "\n",
    "cost_test = loss(probs_test, test_labels)\n",
    "acc_test = accuracy(preds_test, test_labels)\n",
    "\n",
    "print(f\"Test accuracy is {acc_test}\")"
   ]
  },
  {
   "cell_type": "code",
   "execution_count": 14,
   "id": "5cd90ddd-da20-46c3-ba8d-d89740a6eeb6",
   "metadata": {},
   "outputs": [
    {
     "data": {
      "image/png": "[encoded data removed]",
      "text/plain": [
       "<Figure size 640x480 with 1 Axes>"
      ]
     },
     "metadata": {},
     "output_type": "display_data"
    }
   ],
   "source": [
    "if is_local_simulator:\n",
    "    lqm.plot_loss(losses_valid)\n",
    "    plt.savefig(os.path.join(save_folder, \"validation_loss.png\"))"
   ]
  },
  {
   "cell_type": "code",
   "execution_count": 15,
   "id": "06539714-fb81-4d0b-b90a-4f190f9cf34d",
   "metadata": {},
   "outputs": [
    {
     "data": {
      "image/png": "[encoded data removed]",
      "text/plain": [
       "<Figure size 640x480 with 1 Axes>"
      ]
     },
     "metadata": {},
     "output_type": "display_data"
    }
   ],
   "source": [
    "lqm.plot_class_hist(probs_test, test_labels)\n",
    "plt.savefig(os.path.join(save_folder, \"classhist.png\"))"
   ]
  },
  {
   "cell_type": "code",
   "execution_count": 16,
   "id": "8b735022-4421-49af-b8ea-3bf7014a0e25",
   "metadata": {},
   "outputs": [
    {
     "data": {
      "image/png": "[encoded data removed]",
      "text/plain": [
       "<Figure size 640x480 with 1 Axes>"
      ]
     },
     "metadata": {},
     "output_type": "display_data"
    }
   ],
   "source": [
    "lqm.plot_roc(probs_test, test_labels)\n",
    "plt.savefig(os.path.join(save_folder, \"roc.png\"))"
   ]
  },
  {
   "cell_type": "code",
   "execution_count": 17,
   "id": "6e99391f-2639-4860-afb8-41e7cc916bdf",
   "metadata": {},
   "outputs": [
    {
     "name": "stdout",
     "output_type": "stream",
     "text": [
      "\n",
      "\n",
      "\n",
      "\n",
      "\n",
      "\n",
      "| | predict 0 | predict 1|\n",
      "|---|---|---|\n",
      "|true 0|  0 | 40 |\n",
      "|true 1|  0 | 40 |\n"
     ]
    },
    {
     "data": {
      "image/png": "[encoded data removed]",
      "text/plain": [
       "<Figure size 640x480 with 2 Axes>"
      ]
     },
     "metadata": {},
     "output_type": "display_data"
    }
   ],
   "source": [
    "cm = confusion_matrix(test_labels, preds_test)\n",
    "ConfusionMatrixDisplay(cm).plot()\n",
    "\n",
    "print(\"\\n\\n\\n\\n\\n\")\n",
    "\n",
    "# also print a table in the markdown format\n",
    "print(\"| | predict 0 | predict 1|\")\n",
    "print(\"|---|---|---|\")\n",
    "print(f\"|true 0|  {cm[0, 0]} | {cm[0, 1]} |\")\n",
    "print(f\"|true 1|  {cm[1, 0]} | {cm[1, 1]} |\")"
   ]
  },
  {
   "cell_type": "code",
   "execution_count": 18,
   "id": "a322eb49-4bc3-4131-8e8f-ee396d16b0ab",
   "metadata": {},
   "outputs": [
    {
     "name": "stdout",
     "output_type": "stream",
     "text": [
      "\n",
      "\n",
      "\n",
      "\n",
      "\n",
      "\n",
      "| range | n signal | n background | percentage signal  | percentage background|\n",
      "|---|---|---|---|---|\n",
      "| >0.4 | 40 | 40 | 50.0%  |  50.0% | \n",
      "| >0.5 | 40 | 40 | 50.0%  |  50.0% | \n",
      "| >0.6 | 40 | 39 | 50.6%  |  49.4% | \n",
      "| >0.7 | 40 | 28 | 58.8%  |  41.2% | \n",
      "| >0.8 | 29 | 0 | 100.0%  |  0.0% | \n",
      "| >0.9 | 5 | 0 | 100.0%  |  0.0% | \n"
     ]
    }
   ],
   "source": [
    "print(\"\\n\\n\\n\\n\\n\")\n",
    "\n",
    "\n",
    "print(\"| range | n signal | n background | percentage signal  | percentage background|\")\n",
    "print(\"|---|---|---|---|---|\")\n",
    "\n",
    "cuts = [0.4, 0.5, 0.6, 0.7, 0.8, 0.9]\n",
    "\n",
    "\n",
    "for cut in cuts:\n",
    "    filter = (probs_test > cut)\n",
    "    filtered_labels = test_labels[filter]\n",
    "\n",
    "    n_total = len(filtered_labels)\n",
    "    n_signal = np.sum(filtered_labels).astype(int)\n",
    "    n_background = n_total-n_signal\n",
    "    \n",
    "    per_signal = n_signal/n_total * 100\n",
    "    per_background = n_background/n_total * 100\n",
    "\n",
    "    print(f\"| >{cut:.1f} | {n_signal} | {n_background} | {per_signal:.1f}%  |  {per_background:.1f}% | \")\n",
    "\n"
   ]
  },
  {
   "cell_type": "code",
   "execution_count": null,
   "id": "8ec63d04-bdec-4418-9b66-1f3f032c0a65",
   "metadata": {},
   "outputs": [],
   "source": []
  }
 ],
 "metadata": {
  "kernelspec": {
   "display_name": "Python 3 (ipykernel)",
   "language": "python",
   "name": "python3"
  },
  "language_info": {
   "codemirror_mode": {
    "name": "ipython",
    "version": 3
   },
   "file_extension": ".py",
   "mimetype": "text/x-python",
   "name": "python",
   "nbconvert_exporter": "python",
   "pygments_lexer": "ipython3",
   "version": "3.11.7"
  }
 },
 "nbformat": 4,
 "nbformat_minor": 5
}
