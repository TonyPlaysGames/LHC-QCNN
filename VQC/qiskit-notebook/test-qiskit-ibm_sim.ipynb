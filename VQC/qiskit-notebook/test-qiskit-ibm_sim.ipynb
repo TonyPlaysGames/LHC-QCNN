{
 "cells": [
  {
   "cell_type": "code",
   "execution_count": 11,
   "id": "9d621dfb-2d4d-4202-a23d-98694938595e",
   "metadata": {},
   "outputs": [],
   "source": [
    "import numpy as np\n",
    "\n",
    "from qiskit import QuantumCircuit\n",
    "from qiskit_ibm_runtime import QiskitRuntimeService, Session, Sampler, Estimator\n",
    "from qiskit.circuit import ParameterVector\n",
    "from qiskit.quantum_info import SparsePauliOp"
   ]
  },
  {
   "cell_type": "code",
   "execution_count": 5,
   "id": "43b684c9-af29-41cb-8aad-821e4aaaa2f0",
   "metadata": {},
   "outputs": [],
   "source": [
    "num_layers = 4\n",
    "n_qubits = 3\n",
    "\n",
    "inputs = ParameterVector(\"input\", n_qubits)\n",
    "weights = ParameterVector(\"weights\", num_layers * n_qubits)\n",
    "\n",
    "qc = QuantumCircuit(3)\n",
    "for i in range(n_qubits):\n",
    "    qc.rx(inputs[i], i)\n",
    "\n",
    "for i in range(n_qubits):\n",
    "    qc.ry(weights[i], i)\n",
    "\n",
    "for i in range(n_qubits):\n",
    "    qc.cx(i, (i+1)%n_qubits)\n",
    "\n",
    "for i in range(n_qubits):\n",
    "    qc.rz(weights[i+3], i)\n",
    "\n",
    "for i in range(n_qubits):\n",
    "    qc.cx(i, (i+1)%n_qubits)\n",
    "\n",
    "for i in range(n_qubits):\n",
    "    qc.rx(weights[i+6], i)\n",
    "\n",
    "for i in range(n_qubits):\n",
    "    qc.cx(i, (i+1)%n_qubits)\n",
    "\n",
    "for i in range(n_qubits):\n",
    "    qc.rz(weights[i+9], i)\n",
    "\n",
    "for i in range(n_qubits):\n",
    "    qc.cx(i, (i+1)%n_qubits)"
   ]
  },
  {
   "cell_type": "code",
   "execution_count": 6,
   "id": "35326d0d-e945-46e8-b6d8-e8a4ab685d6b",
   "metadata": {},
   "outputs": [
    {
     "data": {
      "text/html": [
       "<pre style=\"word-wrap: normal;white-space: pre;background: #fff0;line-height: 1.1;font-family: &quot;Courier New&quot;,Courier,monospace\">     ┌──────────────┐┌────────────────┐          ┌───┐┌────────────────┐     »\n",
       "q_0: ┤ Rx(input[0]) ├┤ Ry(weights[0]) ├──■───────┤ X ├┤ Rz(weights[3]) ├──■──»\n",
       "     ├──────────────┤├────────────────┤┌─┴─┐     └─┬─┘├────────────────┤┌─┴─┐»\n",
       "q_1: ┤ Rx(input[1]) ├┤ Ry(weights[1]) ├┤ X ├──■────┼──┤ Rz(weights[4]) ├┤ X ├»\n",
       "     ├──────────────┤├────────────────┤└───┘┌─┴─┐  │  ├────────────────┤└───┘»\n",
       "q_2: ┤ Rx(input[2]) ├┤ Ry(weights[2]) ├─────┤ X ├──■──┤ Rz(weights[5]) ├─────»\n",
       "     └──────────────┘└────────────────┘     └───┘     └────────────────┘     »\n",
       "«          ┌───┐┌────────────────┐          ┌───┐ ┌────────────────┐          »\n",
       "«q_0: ─────┤ X ├┤ Rx(weights[6]) ├──■───────┤ X ├─┤ Rz(weights[9]) ├──■───────»\n",
       "«          └─┬─┘├────────────────┤┌─┴─┐     └─┬─┘┌┴────────────────┤┌─┴─┐     »\n",
       "«q_1: ──■────┼──┤ Rx(weights[7]) ├┤ X ├──■────┼──┤ Rz(weights[10]) ├┤ X ├──■──»\n",
       "«     ┌─┴─┐  │  ├────────────────┤└───┘┌─┴─┐  │  ├─────────────────┤└───┘┌─┴─┐»\n",
       "«q_2: ┤ X ├──■──┤ Rx(weights[8]) ├─────┤ X ├──■──┤ Rz(weights[11]) ├─────┤ X ├»\n",
       "«     └───┘     └────────────────┘     └───┘     └─────────────────┘     └───┘»\n",
       "«     ┌───┐\n",
       "«q_0: ┤ X ├\n",
       "«     └─┬─┘\n",
       "«q_1: ──┼──\n",
       "«       │  \n",
       "«q_2: ──■──\n",
       "«          </pre>"
      ],
      "text/plain": [
       "     ┌──────────────┐┌────────────────┐          ┌───┐┌────────────────┐     »\n",
       "q_0: ┤ Rx(input[0]) ├┤ Ry(weights[0]) ├──■───────┤ X ├┤ Rz(weights[3]) ├──■──»\n",
       "     ├──────────────┤├────────────────┤┌─┴─┐     └─┬─┘├────────────────┤┌─┴─┐»\n",
       "q_1: ┤ Rx(input[1]) ├┤ Ry(weights[1]) ├┤ X ├──■────┼──┤ Rz(weights[4]) ├┤ X ├»\n",
       "     ├──────────────┤├────────────────┤└───┘┌─┴─┐  │  ├────────────────┤└───┘»\n",
       "q_2: ┤ Rx(input[2]) ├┤ Ry(weights[2]) ├─────┤ X ├──■──┤ Rz(weights[5]) ├─────»\n",
       "     └──────────────┘└────────────────┘     └───┘     └────────────────┘     »\n",
       "«          ┌───┐┌────────────────┐          ┌───┐ ┌────────────────┐          »\n",
       "«q_0: ─────┤ X ├┤ Rx(weights[6]) ├──■───────┤ X ├─┤ Rz(weights[9]) ├──■───────»\n",
       "«          └─┬─┘├────────────────┤┌─┴─┐     └─┬─┘┌┴────────────────┤┌─┴─┐     »\n",
       "«q_1: ──■────┼──┤ Rx(weights[7]) ├┤ X ├──■────┼──┤ Rz(weights[10]) ├┤ X ├──■──»\n",
       "«     ┌─┴─┐  │  ├────────────────┤└───┘┌─┴─┐  │  ├─────────────────┤└───┘┌─┴─┐»\n",
       "«q_2: ┤ X ├──■──┤ Rx(weights[8]) ├─────┤ X ├──■──┤ Rz(weights[11]) ├─────┤ X ├»\n",
       "«     └───┘     └────────────────┘     └───┘     └─────────────────┘     └───┘»\n",
       "«     ┌───┐\n",
       "«q_0: ┤ X ├\n",
       "«     └─┬─┘\n",
       "«q_1: ──┼──\n",
       "«       │  \n",
       "«q_2: ──■──\n",
       "«          "
      ]
     },
     "execution_count": 6,
     "metadata": {},
     "output_type": "execute_result"
    }
   ],
   "source": [
    "qc.draw()"
   ]
  },
  {
   "cell_type": "code",
   "execution_count": 8,
   "id": "8a82366e-51ee-4e4c-87ca-dee2c7b94c0b",
   "metadata": {},
   "outputs": [],
   "source": [
    "obs = SparsePauliOp(\"ZZI\")"
   ]
  },
  {
   "cell_type": "code",
   "execution_count": 12,
   "id": "dbf7c6bb-8ca2-436f-ab38-e7cd57447152",
   "metadata": {},
   "outputs": [],
   "source": [
    "service = QiskitRuntimeService()\n",
    "backend = service.get_backend(\"ibmq_qasm_simulator\")"
   ]
  },
  {
   "cell_type": "code",
   "execution_count": 13,
   "id": "b8cc6d4a-70ba-4e7a-8ddb-2e2b7e35e3b9",
   "metadata": {},
   "outputs": [],
   "source": [
    "weights_init = np.random.randn(num_layers * n_qubits)\n",
    "inputs_init = np.random.randn(n_qubits)"
   ]
  },
  {
   "cell_type": "code",
   "execution_count": 18,
   "id": "267b34ec-9df6-4f24-ad67-6adcf203abde",
   "metadata": {},
   "outputs": [],
   "source": [
    "qc.assign_parameters({weights:weights_init, inputs:inputs_init}, inplace=True)"
   ]
  },
  {
   "cell_type": "code",
   "execution_count": 19,
   "id": "1b341ca2-e6a5-464e-9b93-bd21188e4cc4",
   "metadata": {},
   "outputs": [
    {
     "data": {
      "text/html": [
       "<pre style=\"word-wrap: normal;white-space: pre;background: #fff0;line-height: 1.1;font-family: &quot;Courier New&quot;,Courier,monospace\">      ┌──────────────┐┌──────────────┐          ┌───┐┌─────────────┐           »\n",
       "q_0: ─┤ Rx(-0.86752) ├┤ Ry(-0.45944) ├──■───────┤ X ├┤ Rz(-2.3229) ├───■───────»\n",
       "      ├──────────────┤├──────────────┤┌─┴─┐     └─┬─┘├─────────────┴┐┌─┴─┐     »\n",
       "q_1: ─┤ Rx(-0.20643) ├┤ Ry(-0.53726) ├┤ X ├──■────┼──┤ Rz(-0.88395) ├┤ X ├──■──»\n",
       "     ┌┴──────────────┤└┬────────────┬┘└───┘┌─┴─┐  │  ├──────────────┤└───┘┌─┴─┐»\n",
       "q_2: ┤ Rx(-0.010894) ├─┤ Ry(0.4082) ├──────┤ X ├──■──┤ Rz(-0.34143) ├─────┤ X ├»\n",
       "     └───────────────┘ └────────────┘      └───┘     └──────────────┘     └───┘»\n",
       "«     ┌───┐ ┌────────────┐           ┌───┐┌──────────────┐          ┌───┐\n",
       "«q_0: ┤ X ├─┤ Rx(2.9705) ├───■───────┤ X ├┤ Rz(-0.30464) ├──■───────┤ X ├\n",
       "«     └─┬─┘┌┴────────────┴┐┌─┴─┐     └─┬─┘├─────────────┬┘┌─┴─┐     └─┬─┘\n",
       "«q_1: ──┼──┤ Rx(-0.26624) ├┤ X ├──■────┼──┤ Rz(0.14669) ├─┤ X ├──■────┼──\n",
       "«       │  ├─────────────┬┘└───┘┌─┴─┐  │  ├─────────────┤ └───┘┌─┴─┐  │  \n",
       "«q_2: ──■──┤ Rx(0.87922) ├──────┤ X ├──■──┤ Rz(0.32208) ├──────┤ X ├──■──\n",
       "«          └─────────────┘      └───┘     └─────────────┘      └───┘     </pre>"
      ],
      "text/plain": [
       "      ┌──────────────┐┌──────────────┐          ┌───┐┌─────────────┐           »\n",
       "q_0: ─┤ Rx(-0.86752) ├┤ Ry(-0.45944) ├──■───────┤ X ├┤ Rz(-2.3229) ├───■───────»\n",
       "      ├──────────────┤├──────────────┤┌─┴─┐     └─┬─┘├─────────────┴┐┌─┴─┐     »\n",
       "q_1: ─┤ Rx(-0.20643) ├┤ Ry(-0.53726) ├┤ X ├──■────┼──┤ Rz(-0.88395) ├┤ X ├──■──»\n",
       "     ┌┴──────────────┤└┬────────────┬┘└───┘┌─┴─┐  │  ├──────────────┤└───┘┌─┴─┐»\n",
       "q_2: ┤ Rx(-0.010894) ├─┤ Ry(0.4082) ├──────┤ X ├──■──┤ Rz(-0.34143) ├─────┤ X ├»\n",
       "     └───────────────┘ └────────────┘      └───┘     └──────────────┘     └───┘»\n",
       "«     ┌───┐ ┌────────────┐           ┌───┐┌──────────────┐          ┌───┐\n",
       "«q_0: ┤ X ├─┤ Rx(2.9705) ├───■───────┤ X ├┤ Rz(-0.30464) ├──■───────┤ X ├\n",
       "«     └─┬─┘┌┴────────────┴┐┌─┴─┐     └─┬─┘├─────────────┬┘┌─┴─┐     └─┬─┘\n",
       "«q_1: ──┼──┤ Rx(-0.26624) ├┤ X ├──■────┼──┤ Rz(0.14669) ├─┤ X ├──■────┼──\n",
       "«       │  ├─────────────┬┘└───┘┌─┴─┐  │  ├─────────────┤ └───┘┌─┴─┐  │  \n",
       "«q_2: ──■──┤ Rx(0.87922) ├──────┤ X ├──■──┤ Rz(0.32208) ├──────┤ X ├──■──\n",
       "«          └─────────────┘      └───┘     └─────────────┘      └───┘     "
      ]
     },
     "execution_count": 19,
     "metadata": {},
     "output_type": "execute_result"
    }
   ],
   "source": [
    "qc.draw()"
   ]
  },
  {
   "cell_type": "code",
   "execution_count": 14,
   "id": "a86ffe16-b98a-4b0a-97b5-ef245d279288",
   "metadata": {},
   "outputs": [],
   "source": [
    "estimator = Estimator(backend)"
   ]
  },
  {
   "cell_type": "code",
   "execution_count": 20,
   "id": "537c8274-0c8d-4712-9f6e-20dfc512e097",
   "metadata": {},
   "outputs": [],
   "source": [
    "job = estimator.run([qc], observables=[obs], shots=1024)"
   ]
  },
  {
   "cell_type": "code",
   "execution_count": 21,
   "id": "bfdb26ec-ca65-45dd-8c26-81474bdb568a",
   "metadata": {},
   "outputs": [],
   "source": [
    "result = job.result()"
   ]
  },
  {
   "cell_type": "code",
   "execution_count": 22,
   "id": "477d010b-40e0-4dee-add6-de546cf5e9d9",
   "metadata": {},
   "outputs": [
    {
     "data": {
      "text/plain": [
       "EstimatorResult(values=array([0.12304688]), metadata=[{'variance': 0.9848594665527344, 'shots': 1024}])"
      ]
     },
     "execution_count": 22,
     "metadata": {},
     "output_type": "execute_result"
    }
   ],
   "source": [
    "result"
   ]
  },
  {
   "cell_type": "code",
   "execution_count": 23,
   "id": "8013d575-1c0f-4ed5-81b0-bde4d29b34f1",
   "metadata": {},
   "outputs": [
    {
     "ename": "CircuitError",
     "evalue": "'Cannot bind parameters (weights[9], weights[5], weights[3], weights[11], weights[7], input[0], input[1], weights[10], weights[8], weights[6], weights[2], weights[1], weights[4], input[2], weights[0]) not present in the circuit.'",
     "output_type": "error",
     "traceback": [
      "\u001b[0;31m---------------------------------------------------------------------------\u001b[0m",
      "\u001b[0;31mCircuitError\u001b[0m                              Traceback (most recent call last)",
      "Cell \u001b[0;32mIn[23], line 1\u001b[0m\n\u001b[0;32m----> 1\u001b[0m \u001b[43mqc\u001b[49m\u001b[38;5;241;43m.\u001b[39;49m\u001b[43massign_parameters\u001b[49m\u001b[43m(\u001b[49m\u001b[43m{\u001b[49m\u001b[43mweights\u001b[49m\u001b[43m:\u001b[49m\u001b[43mweights_init\u001b[49m\u001b[43m,\u001b[49m\u001b[43m \u001b[49m\u001b[43minputs\u001b[49m\u001b[43m:\u001b[49m\u001b[43minputs_init\u001b[49m\u001b[43m}\u001b[49m\u001b[43m,\u001b[49m\u001b[43m \u001b[49m\u001b[43minplace\u001b[49m\u001b[38;5;241;43m=\u001b[39;49m\u001b[38;5;28;43;01mTrue\u001b[39;49;00m\u001b[43m)\u001b[49m\n",
      "File \u001b[0;32m~/mambaforge/envs/pc-test/lib/python3.11/site-packages/qiskit/circuit/quantumcircuit.py:2675\u001b[0m, in \u001b[0;36mQuantumCircuit.assign_parameters\u001b[0;34m(self, parameters, inplace, flat_input, strict)\u001b[0m\n\u001b[1;32m   2673\u001b[0m     our_parameters \u001b[38;5;241m=\u001b[39m \u001b[38;5;28mself\u001b[39m\u001b[38;5;241m.\u001b[39m_unsorted_parameters()\n\u001b[1;32m   2674\u001b[0m     \u001b[38;5;28;01mif\u001b[39;00m strict \u001b[38;5;129;01mand\u001b[39;00m (extras \u001b[38;5;241m:=\u001b[39m raw_mapping\u001b[38;5;241m.\u001b[39mkeys() \u001b[38;5;241m-\u001b[39m our_parameters):\n\u001b[0;32m-> 2675\u001b[0m         \u001b[38;5;28;01mraise\u001b[39;00m CircuitError(\n\u001b[1;32m   2676\u001b[0m             \u001b[38;5;124mf\u001b[39m\u001b[38;5;124m\"\u001b[39m\u001b[38;5;124mCannot bind parameters (\u001b[39m\u001b[38;5;132;01m{\u001b[39;00m\u001b[38;5;124m'\u001b[39m\u001b[38;5;124m, \u001b[39m\u001b[38;5;124m'\u001b[39m\u001b[38;5;241m.\u001b[39mjoin(\u001b[38;5;28mstr\u001b[39m(x)\u001b[38;5;250m \u001b[39m\u001b[38;5;28;01mfor\u001b[39;00m\u001b[38;5;250m \u001b[39mx\u001b[38;5;250m \u001b[39m\u001b[38;5;129;01min\u001b[39;00m\u001b[38;5;250m \u001b[39mextras)\u001b[38;5;132;01m}\u001b[39;00m\u001b[38;5;124m) not present in\u001b[39m\u001b[38;5;124m\"\u001b[39m\n\u001b[1;32m   2677\u001b[0m             \u001b[38;5;124m\"\u001b[39m\u001b[38;5;124m the circuit.\u001b[39m\u001b[38;5;124m\"\u001b[39m\n\u001b[1;32m   2678\u001b[0m         )\n\u001b[1;32m   2679\u001b[0m     parameter_binds \u001b[38;5;241m=\u001b[39m _ParameterBindsDict(raw_mapping, our_parameters)\n\u001b[1;32m   2680\u001b[0m \u001b[38;5;28;01melse\u001b[39;00m:\n",
      "\u001b[0;31mCircuitError\u001b[0m: 'Cannot bind parameters (weights[9], weights[5], weights[3], weights[11], weights[7], input[0], input[1], weights[10], weights[8], weights[6], weights[2], weights[1], weights[4], input[2], weights[0]) not present in the circuit.'"
     ]
    }
   ],
   "source": []
  },
  {
   "cell_type": "code",
   "execution_count": 24,
   "id": "30991185-a4f7-4bcc-b19c-41291e1e647f",
   "metadata": {},
   "outputs": [
    {
     "data": {
      "text/plain": [
       "ParameterVector(name=input, length=3)"
      ]
     },
     "execution_count": 24,
     "metadata": {},
     "output_type": "execute_result"
    }
   ],
   "source": [
    "inputs"
   ]
  },
  {
   "cell_type": "code",
   "execution_count": 26,
   "id": "687abe82-6fdd-4cf6-962a-482b0af30721",
   "metadata": {},
   "outputs": [],
   "source": [
    "num_layers = 4\n",
    "n_qubits = 3\n",
    "\n",
    "inputs = ParameterVector(\"input\", n_qubits)\n",
    "weights = ParameterVector(\"weights\", num_layers * n_qubits)\n",
    "ks = ParameterVector(\"k\", n_qubits)\n",
    "\n",
    "qc = QuantumCircuit(3)\n",
    "for i in range(n_qubits):\n",
    "    qc.rx(inputs[i]*ks[i], i)\n",
    "\n",
    "for i in range(n_qubits):\n",
    "    qc.ry(weights[i], i)\n",
    "\n",
    "for i in range(n_qubits):\n",
    "    qc.cx(i, (i+1)%n_qubits)\n",
    "\n",
    "for i in range(n_qubits):\n",
    "    qc.rz(weights[i+3], i)\n",
    "\n",
    "for i in range(n_qubits):\n",
    "    qc.cx(i, (i+1)%n_qubits)\n",
    "\n",
    "for i in range(n_qubits):\n",
    "    qc.rx(weights[i+6], i)\n",
    "\n",
    "for i in range(n_qubits):\n",
    "    qc.cx(i, (i+1)%n_qubits)\n",
    "\n",
    "for i in range(n_qubits):\n",
    "    qc.rz(weights[i+9], i)\n",
    "\n",
    "for i in range(n_qubits):\n",
    "    qc.cx(i, (i+1)%n_qubits)"
   ]
  },
  {
   "cell_type": "code",
   "execution_count": 27,
   "id": "87e923b5-f4aa-4380-9335-b62cc5e8f380",
   "metadata": {},
   "outputs": [
    {
     "data": {
      "text/html": [
       "<pre style=\"word-wrap: normal;white-space: pre;background: #fff0;line-height: 1.1;font-family: &quot;Courier New&quot;,Courier,monospace\">     ┌───────────────────┐┌────────────────┐          ┌───┐┌────────────────┐»\n",
       "q_0: ┤ Rx(input[0]*k[0]) ├┤ Ry(weights[0]) ├──■───────┤ X ├┤ Rz(weights[3]) ├»\n",
       "     ├───────────────────┤├────────────────┤┌─┴─┐     └─┬─┘├────────────────┤»\n",
       "q_1: ┤ Rx(input[1]*k[1]) ├┤ Ry(weights[1]) ├┤ X ├──■────┼──┤ Rz(weights[4]) ├»\n",
       "     ├───────────────────┤├────────────────┤└───┘┌─┴─┐  │  ├────────────────┤»\n",
       "q_2: ┤ Rx(input[2]*k[2]) ├┤ Ry(weights[2]) ├─────┤ X ├──■──┤ Rz(weights[5]) ├»\n",
       "     └───────────────────┘└────────────────┘     └───┘     └────────────────┘»\n",
       "«               ┌───┐┌────────────────┐          ┌───┐ ┌────────────────┐     »\n",
       "«q_0: ──■───────┤ X ├┤ Rx(weights[6]) ├──■───────┤ X ├─┤ Rz(weights[9]) ├──■──»\n",
       "«     ┌─┴─┐     └─┬─┘├────────────────┤┌─┴─┐     └─┬─┘┌┴────────────────┤┌─┴─┐»\n",
       "«q_1: ┤ X ├──■────┼──┤ Rx(weights[7]) ├┤ X ├──■────┼──┤ Rz(weights[10]) ├┤ X ├»\n",
       "«     └───┘┌─┴─┐  │  ├────────────────┤└───┘┌─┴─┐  │  ├─────────────────┤└───┘»\n",
       "«q_2: ─────┤ X ├──■──┤ Rx(weights[8]) ├─────┤ X ├──■──┤ Rz(weights[11]) ├─────»\n",
       "«          └───┘     └────────────────┘     └───┘     └─────────────────┘     »\n",
       "«          ┌───┐\n",
       "«q_0: ─────┤ X ├\n",
       "«          └─┬─┘\n",
       "«q_1: ──■────┼──\n",
       "«     ┌─┴─┐  │  \n",
       "«q_2: ┤ X ├──■──\n",
       "«     └───┘     </pre>"
      ],
      "text/plain": [
       "     ┌───────────────────┐┌────────────────┐          ┌───┐┌────────────────┐»\n",
       "q_0: ┤ Rx(input[0]*k[0]) ├┤ Ry(weights[0]) ├──■───────┤ X ├┤ Rz(weights[3]) ├»\n",
       "     ├───────────────────┤├────────────────┤┌─┴─┐     └─┬─┘├────────────────┤»\n",
       "q_1: ┤ Rx(input[1]*k[1]) ├┤ Ry(weights[1]) ├┤ X ├──■────┼──┤ Rz(weights[4]) ├»\n",
       "     ├───────────────────┤├────────────────┤└───┘┌─┴─┐  │  ├────────────────┤»\n",
       "q_2: ┤ Rx(input[2]*k[2]) ├┤ Ry(weights[2]) ├─────┤ X ├──■──┤ Rz(weights[5]) ├»\n",
       "     └───────────────────┘└────────────────┘     └───┘     └────────────────┘»\n",
       "«               ┌───┐┌────────────────┐          ┌───┐ ┌────────────────┐     »\n",
       "«q_0: ──■───────┤ X ├┤ Rx(weights[6]) ├──■───────┤ X ├─┤ Rz(weights[9]) ├──■──»\n",
       "«     ┌─┴─┐     └─┬─┘├────────────────┤┌─┴─┐     └─┬─┘┌┴────────────────┤┌─┴─┐»\n",
       "«q_1: ┤ X ├──■────┼──┤ Rx(weights[7]) ├┤ X ├──■────┼──┤ Rz(weights[10]) ├┤ X ├»\n",
       "«     └───┘┌─┴─┐  │  ├────────────────┤└───┘┌─┴─┐  │  ├─────────────────┤└───┘»\n",
       "«q_2: ─────┤ X ├──■──┤ Rx(weights[8]) ├─────┤ X ├──■──┤ Rz(weights[11]) ├─────»\n",
       "«          └───┘     └────────────────┘     └───┘     └─────────────────┘     »\n",
       "«          ┌───┐\n",
       "«q_0: ─────┤ X ├\n",
       "«          └─┬─┘\n",
       "«q_1: ──■────┼──\n",
       "«     ┌─┴─┐  │  \n",
       "«q_2: ┤ X ├──■──\n",
       "«     └───┘     "
      ]
     },
     "execution_count": 27,
     "metadata": {},
     "output_type": "execute_result"
    }
   ],
   "source": [
    "qc.draw()"
   ]
  },
  {
   "cell_type": "code",
   "execution_count": 28,
   "id": "a100600b-77ba-4929-8ee1-ea9413a17c1a",
   "metadata": {},
   "outputs": [
    {
     "data": {
      "text/plain": [
       "EstimatorResult(values=array([0.12304688]), metadata=[{'variance': 0.9848594665527344, 'shots': 1024}])"
      ]
     },
     "execution_count": 28,
     "metadata": {},
     "output_type": "execute_result"
    }
   ],
   "source": [
    "result"
   ]
  },
  {
   "cell_type": "code",
   "execution_count": 29,
   "id": "56ec2f1f-bda4-4b3f-b5fd-f46f35a35f6a",
   "metadata": {},
   "outputs": [
    {
     "data": {
      "text/plain": [
       "array([0.12304688])"
      ]
     },
     "execution_count": 29,
     "metadata": {},
     "output_type": "execute_result"
    }
   ],
   "source": [
    "result.values"
   ]
  },
  {
   "cell_type": "code",
   "execution_count": null,
   "id": "a68e1962-0545-4868-a3ea-e5c836e927d5",
   "metadata": {},
   "outputs": [],
   "source": []
  }
 ],
 "metadata": {
  "kernelspec": {
   "display_name": "Python 3 (ipykernel)",
   "language": "python",
   "name": "python3"
  },
  "language_info": {
   "codemirror_mode": {
    "name": "ipython",
    "version": 3
   },
   "file_extension": ".py",
   "mimetype": "text/x-python",
   "name": "python",
   "nbconvert_exporter": "python",
   "pygments_lexer": "ipython3",
   "version": "3.11.7"
  }
 },
 "nbformat": 4,
 "nbformat_minor": 5
}
